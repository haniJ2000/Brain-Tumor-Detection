{
  "nbformat": 4,
  "nbformat_minor": 0,
  "metadata": {
    "colab": {
      "provenance": [],
      "authorship_tag": "ABX9TyNbfOh2En8JsNGK3iejBIAS",
      "include_colab_link": true
    },
    "kernelspec": {
      "name": "python3",
      "display_name": "Python 3"
    },
    "language_info": {
      "name": "python"
    }
  },
  "cells": [
    {
      "cell_type": "markdown",
      "metadata": {
        "id": "view-in-github",
        "colab_type": "text"
      },
      "source": [
        "<a href=\"https://colab.research.google.com/github/haniJ2000/Brain-Tumor-Detection/blob/main/Data_preprocessing(research).ipynb\" target=\"_parent\"><img src=\"https://colab.research.google.com/assets/colab-badge.svg\" alt=\"Open In Colab\"/></a>"
      ]
    },
    {
      "cell_type": "markdown",
      "source": [
        "**Missing values handling in rows......**"
      ],
      "metadata": {
        "id": "Gk6C8U5mqk8v"
      }
    },
    {
      "cell_type": "code",
      "source": [
        "import matplotlib.pyplot as plt\n",
        "import seaborn as sns\n",
        "import pandas as pd\n",
        "\n",
        "from google.colab import drive\n",
        "drive.mount('/content/drive')\n",
        "df = pd.read_csv('/content/drive/MyDrive/application_data.csv')"
      ],
      "metadata": {
        "colab": {
          "base_uri": "https://localhost:8080/"
        },
        "id": "7p-lteEaEDXv",
        "outputId": "7067638a-41ed-4c14-cb29-112a0780bf96"
      },
      "execution_count": null,
      "outputs": [
        {
          "output_type": "stream",
          "name": "stdout",
          "text": [
            "Mounted at /content/drive\n"
          ]
        }
      ]
    },
    {
      "cell_type": "markdown",
      "source": [
        "check the duplication rows"
      ],
      "metadata": {
        "id": "6SWM_gJ0q0Sr"
      }
    },
    {
      "cell_type": "code",
      "source": [
        "# Check the number of duplicate rows\n",
        "duplicates = df.duplicated().sum()\n",
        "print(f\"Number of duplicate rows: {duplicates}\")\n"
      ],
      "metadata": {
        "colab": {
          "base_uri": "https://localhost:8080/"
        },
        "id": "GwKTbsKaEDJk",
        "outputId": "c20e69b8-c2c2-4cd6-bf96-4af5c6738c0d"
      },
      "execution_count": null,
      "outputs": [
        {
          "output_type": "stream",
          "name": "stdout",
          "text": [
            "Number of duplicate rows: 0\n"
          ]
        }
      ]
    },
    {
      "cell_type": "markdown",
      "source": [
        "check the missing value presentages in rows"
      ],
      "metadata": {
        "id": "JHt8bKWQq9-6"
      }
    },
    {
      "cell_type": "code",
      "source": [
        "# Calculate the percentage of missing values for each row\n",
        "missing_percentage = (df.isnull().sum(axis=1) / df.shape[1]) * 100\n",
        "\n",
        "# Display the percentage of missing values for each row\n",
        "print(\"Percentage of missing values for each row:\")\n",
        "print(missing_percentage)\n",
        "\n",
        "# Optionally, display statistics on missing percentages\n",
        "print(\"\\nSummary of missing percentages:\")\n",
        "print(missing_percentage.describe())\n"
      ],
      "metadata": {
        "colab": {
          "base_uri": "https://localhost:8080/"
        },
        "id": "18bwPJctEC8p",
        "outputId": "137494e3-fd59-4ee3-fec0-d953a9ed28fb"
      },
      "execution_count": null,
      "outputs": [
        {
          "output_type": "stream",
          "name": "stdout",
          "text": [
            "Percentage of missing values for each row:\n",
            "0         0.0\n",
            "1         0.0\n",
            "2         0.0\n",
            "3         0.0\n",
            "4         0.0\n",
            "         ... \n",
            "307506    0.0\n",
            "307507    0.0\n",
            "307508    0.0\n",
            "307509    0.0\n",
            "307510    0.0\n",
            "Length: 307511, dtype: float64\n",
            "\n",
            "Summary of missing percentages:\n",
            "count    307511.0\n",
            "mean          0.0\n",
            "std           0.0\n",
            "min           0.0\n",
            "25%           0.0\n",
            "50%           0.0\n",
            "75%           0.0\n",
            "max           0.0\n",
            "dtype: float64\n"
          ]
        }
      ]
    },
    {
      "cell_type": "markdown",
      "source": [
        "**missing value handling in columns....**"
      ],
      "metadata": {
        "id": "2uL1MnM2Mbqg"
      }
    },
    {
      "cell_type": "markdown",
      "source": [
        "presentage of missing values in columns"
      ],
      "metadata": {
        "id": "pndFSzgb6Tin"
      }
    },
    {
      "cell_type": "code",
      "source": [
        "# Display all columns in the output\n",
        "pd.set_option('display.max_columns', None)\n",
        "\n",
        "# Calculate percentage of missing values for each column\n",
        "missing_percentage = (df.isnull().sum() / len(df)) * 100\n",
        "\n",
        "# Display the missing value percentages\n",
        "print(\"Percentage of Missing Values for Each Column:\\n\", missing_percentage)\n",
        "\n",
        "# Save missing value percentages to a CSV file\n",
        "missing_percentage.to_csv(\"missing_values_report.csv\")\n",
        "\n",
        "#check the direction\n",
        "import os\n",
        "print(\"Current Working Directory:\", os.getcwd())\n",
        "\n",
        "'''#for download the file\n",
        "from google.colab import files\n",
        "files.download(\"missing_values_report.csv\") '''\n",
        "\n",
        "print(\"Total Columns with Missing Value Percentage:\", len(missing_percentage))\n",
        "\n"
      ],
      "metadata": {
        "colab": {
          "base_uri": "https://localhost:8080/"
        },
        "id": "tCKVF1_fqSLq",
        "outputId": "a0848fd8-ae20-4bb3-867c-f196defdc7ec"
      },
      "execution_count": null,
      "outputs": [
        {
          "output_type": "stream",
          "name": "stdout",
          "text": [
            "Percentage of Missing Values for Each Column:\n",
            " SK_ID_CURR                     0.000000\n",
            "TARGET                         0.000000\n",
            "NAME_CONTRACT_TYPE             0.000000\n",
            "CODE_GENDER                    0.000000\n",
            "FLAG_OWN_CAR                   0.000000\n",
            "                                ...    \n",
            "AMT_REQ_CREDIT_BUREAU_DAY     13.501631\n",
            "AMT_REQ_CREDIT_BUREAU_WEEK    13.501631\n",
            "AMT_REQ_CREDIT_BUREAU_MON     13.501631\n",
            "AMT_REQ_CREDIT_BUREAU_QRT     13.501631\n",
            "AMT_REQ_CREDIT_BUREAU_YEAR    13.501631\n",
            "Length: 122, dtype: float64\n",
            "Current Working Directory: /content\n",
            "Total Columns with Missing Value Percentage: 122\n"
          ]
        }
      ]
    },
    {
      "cell_type": "markdown",
      "source": [
        "Categorizing Columns Based on Missing Value Percentages\n"
      ],
      "metadata": {
        "id": "ftASIBjJyFLo"
      }
    },
    {
      "cell_type": "code",
      "source": [
        "# Categorize Columns\n",
        "low_missing_cols = missing_percentage[missing_percentage < 5].index.tolist()\n",
        "moderate_missing_cols = missing_percentage[(missing_percentage >= 5) & (missing_percentage <= 50)].index.tolist()\n",
        "high_missing_cols = missing_percentage[missing_percentage > 50].index.tolist()\n",
        "\n",
        "# Step 3: Print Results\n",
        "print(f\"Low Missingness Columns (< 5%): {len(low_missing_cols)} columns\")\n",
        "print(low_missing_cols)\n",
        "\n",
        "print(f\"\\nModerate Missingness Columns (5% - 50%): {len(moderate_missing_cols)} columns\")\n",
        "print(moderate_missing_cols)\n",
        "\n",
        "print(f\"\\nHigh Missingness Columns (> 50%): {len(high_missing_cols)} columns\")\n",
        "print(high_missing_cols)\n",
        "\n",
        "# Step 4: Optional - Export the categorized lists to a CSV\n",
        "import pandas as pd\n",
        "categorized_columns = pd.DataFrame({\n",
        "    'Low Missingness (< 5%)': pd.Series(low_missing_cols),\n",
        "    'Moderate Missingness (5% - 50%)': pd.Series(moderate_missing_cols),\n",
        "    'High Missingness (> 50%)': pd.Series(high_missing_cols)\n",
        "})\n",
        "categorized_columns.to_csv(\"categorized_columns.csv\", index=False)\n",
        "\n",
        "'''#for download the file\n",
        "from google.colab import files\n",
        "files.download(\"categorized_columns.csv\")'''\n"
      ],
      "metadata": {
        "colab": {
          "base_uri": "https://localhost:8080/",
          "height": 212
        },
        "id": "Rw5z5ncJ1G2B",
        "outputId": "2bed0a70-3a83-42e7-fb84-8e2e3c57e33f"
      },
      "execution_count": null,
      "outputs": [
        {
          "output_type": "stream",
          "name": "stdout",
          "text": [
            "Low Missingness Columns (< 5%): 65 columns\n",
            "['SK_ID_CURR', 'TARGET', 'NAME_CONTRACT_TYPE', 'CODE_GENDER', 'FLAG_OWN_CAR', 'FLAG_OWN_REALTY', 'CNT_CHILDREN', 'AMT_INCOME_TOTAL', 'AMT_CREDIT', 'AMT_ANNUITY', 'AMT_GOODS_PRICE', 'NAME_TYPE_SUITE', 'NAME_INCOME_TYPE', 'NAME_EDUCATION_TYPE', 'NAME_FAMILY_STATUS', 'NAME_HOUSING_TYPE', 'REGION_POPULATION_RELATIVE', 'DAYS_BIRTH', 'DAYS_EMPLOYED', 'DAYS_REGISTRATION', 'DAYS_ID_PUBLISH', 'FLAG_MOBIL', 'FLAG_EMP_PHONE', 'FLAG_WORK_PHONE', 'FLAG_CONT_MOBILE', 'FLAG_PHONE', 'FLAG_EMAIL', 'CNT_FAM_MEMBERS', 'REGION_RATING_CLIENT', 'REGION_RATING_CLIENT_W_CITY', 'WEEKDAY_APPR_PROCESS_START', 'HOUR_APPR_PROCESS_START', 'REG_REGION_NOT_LIVE_REGION', 'REG_REGION_NOT_WORK_REGION', 'LIVE_REGION_NOT_WORK_REGION', 'REG_CITY_NOT_LIVE_CITY', 'REG_CITY_NOT_WORK_CITY', 'LIVE_CITY_NOT_WORK_CITY', 'ORGANIZATION_TYPE', 'EXT_SOURCE_2', 'OBS_30_CNT_SOCIAL_CIRCLE', 'DEF_30_CNT_SOCIAL_CIRCLE', 'OBS_60_CNT_SOCIAL_CIRCLE', 'DEF_60_CNT_SOCIAL_CIRCLE', 'DAYS_LAST_PHONE_CHANGE', 'FLAG_DOCUMENT_2', 'FLAG_DOCUMENT_3', 'FLAG_DOCUMENT_4', 'FLAG_DOCUMENT_5', 'FLAG_DOCUMENT_6', 'FLAG_DOCUMENT_7', 'FLAG_DOCUMENT_8', 'FLAG_DOCUMENT_9', 'FLAG_DOCUMENT_10', 'FLAG_DOCUMENT_11', 'FLAG_DOCUMENT_12', 'FLAG_DOCUMENT_13', 'FLAG_DOCUMENT_14', 'FLAG_DOCUMENT_15', 'FLAG_DOCUMENT_16', 'FLAG_DOCUMENT_17', 'FLAG_DOCUMENT_18', 'FLAG_DOCUMENT_19', 'FLAG_DOCUMENT_20', 'FLAG_DOCUMENT_21']\n",
            "\n",
            "Moderate Missingness Columns (5% - 50%): 16 columns\n",
            "['OCCUPATION_TYPE', 'EXT_SOURCE_3', 'YEARS_BEGINEXPLUATATION_AVG', 'FLOORSMAX_AVG', 'YEARS_BEGINEXPLUATATION_MODE', 'FLOORSMAX_MODE', 'YEARS_BEGINEXPLUATATION_MEDI', 'FLOORSMAX_MEDI', 'TOTALAREA_MODE', 'EMERGENCYSTATE_MODE', 'AMT_REQ_CREDIT_BUREAU_HOUR', 'AMT_REQ_CREDIT_BUREAU_DAY', 'AMT_REQ_CREDIT_BUREAU_WEEK', 'AMT_REQ_CREDIT_BUREAU_MON', 'AMT_REQ_CREDIT_BUREAU_QRT', 'AMT_REQ_CREDIT_BUREAU_YEAR']\n",
            "\n",
            "High Missingness Columns (> 50%): 41 columns\n",
            "['OWN_CAR_AGE', 'EXT_SOURCE_1', 'APARTMENTS_AVG', 'BASEMENTAREA_AVG', 'YEARS_BUILD_AVG', 'COMMONAREA_AVG', 'ELEVATORS_AVG', 'ENTRANCES_AVG', 'FLOORSMIN_AVG', 'LANDAREA_AVG', 'LIVINGAPARTMENTS_AVG', 'LIVINGAREA_AVG', 'NONLIVINGAPARTMENTS_AVG', 'NONLIVINGAREA_AVG', 'APARTMENTS_MODE', 'BASEMENTAREA_MODE', 'YEARS_BUILD_MODE', 'COMMONAREA_MODE', 'ELEVATORS_MODE', 'ENTRANCES_MODE', 'FLOORSMIN_MODE', 'LANDAREA_MODE', 'LIVINGAPARTMENTS_MODE', 'LIVINGAREA_MODE', 'NONLIVINGAPARTMENTS_MODE', 'NONLIVINGAREA_MODE', 'APARTMENTS_MEDI', 'BASEMENTAREA_MEDI', 'YEARS_BUILD_MEDI', 'COMMONAREA_MEDI', 'ELEVATORS_MEDI', 'ENTRANCES_MEDI', 'FLOORSMIN_MEDI', 'LANDAREA_MEDI', 'LIVINGAPARTMENTS_MEDI', 'LIVINGAREA_MEDI', 'NONLIVINGAPARTMENTS_MEDI', 'NONLIVINGAREA_MEDI', 'FONDKAPREMONT_MODE', 'HOUSETYPE_MODE', 'WALLSMATERIAL_MODE']\n"
          ]
        },
        {
          "output_type": "execute_result",
          "data": {
            "text/plain": [
              "'#for download the file\\nfrom google.colab import files\\nfiles.download(\"categorized_columns.csv\")'"
            ],
            "application/vnd.google.colaboratory.intrinsic+json": {
              "type": "string"
            }
          },
          "metadata": {},
          "execution_count": 3
        }
      ]
    },
    {
      "cell_type": "markdown",
      "source": [
        "Handle Low Missing Percentage(<5%)"
      ],
      "metadata": {
        "id": "eAHuH5Fe6f7X"
      }
    },
    {
      "cell_type": "code",
      "source": [
        "#Identify Columns with Low Missing Percentage (< 5%)\n",
        "print(f\"Columns with Low Missing Percentage (< 5%): {len(low_missing_cols)} columns\")\n",
        "print(low_missing_cols)\n",
        "\n",
        "# Separate Columns by Data Type\n",
        "low_missing_numerical = [col for col in low_missing_cols if df[col].dtype in ['float64', 'int64']]\n",
        "low_missing_categorical = [col for col in low_missing_cols if df[col].dtype == 'object']\n",
        "\n",
        "print(f\"\\nNumerical Columns with Low Missing Percentage: {len(low_missing_numerical)}\")\n",
        "print(low_missing_numerical)\n",
        "\n",
        "print(f\"\\nCategorical Columns with Low Missing Percentage: {len(low_missing_categorical)}\")\n",
        "print(low_missing_categorical)\n",
        "\n",
        "# Impute Missing Values\n",
        "# For numerical columns, impute with mean\n",
        "for col in low_missing_numerical:\n",
        "    df[col].fillna(df[col].mean(), inplace=True)\n",
        "\n",
        "# For categorical columns, impute with mode\n",
        "for col in low_missing_categorical:\n",
        "    df[col].fillna(df[col].mode()[0], inplace=True)\n",
        "\n",
        "# Verify Imputation\n",
        "missing_after_imputation = df[low_missing_cols].isnull().sum()\n",
        "print(\"\\nMissing Values After Imputation:\")\n",
        "print(missing_after_imputation)\n",
        "\n",
        "#******************************************************\n",
        "\n",
        "# Verify Numerical Columns with Missing Values Filled\n",
        "print(\"Numerical Columns with Missing Values Filled:\")\n",
        "for col in low_missing_numerical:\n",
        "    print(f\"\\n{col} (First 10 values):\")\n",
        "    print(df[col].head(5))  # Display the first 10 values for inspection\n",
        "\n",
        "# Verify Categorical Columns with Missing Values Filled\n",
        "print(\"\\nCategorical Columns with Missing Values Filled:\")\n",
        "for col in low_missing_categorical:\n",
        "    print(f\"\\n{col} (First 10 values):\")\n",
        "    print(df[col].head(5))  # Display the first 10 values for inspection\n",
        "\n",
        "#*******************************************************\n",
        "\n",
        "# Select only the columns with low missing percentages\n",
        "filled_data = df[low_missing_cols]\n",
        "\n",
        "# Save these columns to a CSV file\n",
        "filled_data.to_csv('filled_data_columns.csv', index=False)\n",
        "\n",
        "print(\"The data columns have been saved to 'filled_data_columns.csv'.\")\n",
        "\n",
        "'''\n",
        "#from google.colab import files\n",
        "files.download('filled_data_columns.csv')'''\n"
      ],
      "metadata": {
        "colab": {
          "base_uri": "https://localhost:8080/",
          "height": 1000
        },
        "id": "T50oSjLw6HkZ",
        "outputId": "10556390-bdec-42f7-9f3e-76829817d96a"
      },
      "execution_count": null,
      "outputs": [
        {
          "output_type": "stream",
          "name": "stdout",
          "text": [
            "Columns with Low Missing Percentage (< 5%): 65 columns\n",
            "['SK_ID_CURR', 'TARGET', 'NAME_CONTRACT_TYPE', 'CODE_GENDER', 'FLAG_OWN_CAR', 'FLAG_OWN_REALTY', 'CNT_CHILDREN', 'AMT_INCOME_TOTAL', 'AMT_CREDIT', 'AMT_ANNUITY', 'AMT_GOODS_PRICE', 'NAME_TYPE_SUITE', 'NAME_INCOME_TYPE', 'NAME_EDUCATION_TYPE', 'NAME_FAMILY_STATUS', 'NAME_HOUSING_TYPE', 'REGION_POPULATION_RELATIVE', 'DAYS_BIRTH', 'DAYS_EMPLOYED', 'DAYS_REGISTRATION', 'DAYS_ID_PUBLISH', 'FLAG_MOBIL', 'FLAG_EMP_PHONE', 'FLAG_WORK_PHONE', 'FLAG_CONT_MOBILE', 'FLAG_PHONE', 'FLAG_EMAIL', 'CNT_FAM_MEMBERS', 'REGION_RATING_CLIENT', 'REGION_RATING_CLIENT_W_CITY', 'WEEKDAY_APPR_PROCESS_START', 'HOUR_APPR_PROCESS_START', 'REG_REGION_NOT_LIVE_REGION', 'REG_REGION_NOT_WORK_REGION', 'LIVE_REGION_NOT_WORK_REGION', 'REG_CITY_NOT_LIVE_CITY', 'REG_CITY_NOT_WORK_CITY', 'LIVE_CITY_NOT_WORK_CITY', 'ORGANIZATION_TYPE', 'EXT_SOURCE_2', 'OBS_30_CNT_SOCIAL_CIRCLE', 'DEF_30_CNT_SOCIAL_CIRCLE', 'OBS_60_CNT_SOCIAL_CIRCLE', 'DEF_60_CNT_SOCIAL_CIRCLE', 'DAYS_LAST_PHONE_CHANGE', 'FLAG_DOCUMENT_2', 'FLAG_DOCUMENT_3', 'FLAG_DOCUMENT_4', 'FLAG_DOCUMENT_5', 'FLAG_DOCUMENT_6', 'FLAG_DOCUMENT_7', 'FLAG_DOCUMENT_8', 'FLAG_DOCUMENT_9', 'FLAG_DOCUMENT_10', 'FLAG_DOCUMENT_11', 'FLAG_DOCUMENT_12', 'FLAG_DOCUMENT_13', 'FLAG_DOCUMENT_14', 'FLAG_DOCUMENT_15', 'FLAG_DOCUMENT_16', 'FLAG_DOCUMENT_17', 'FLAG_DOCUMENT_18', 'FLAG_DOCUMENT_19', 'FLAG_DOCUMENT_20', 'FLAG_DOCUMENT_21']\n",
            "\n",
            "Numerical Columns with Low Missing Percentage: 54\n",
            "['SK_ID_CURR', 'TARGET', 'CNT_CHILDREN', 'AMT_INCOME_TOTAL', 'AMT_CREDIT', 'AMT_ANNUITY', 'AMT_GOODS_PRICE', 'REGION_POPULATION_RELATIVE', 'DAYS_BIRTH', 'DAYS_EMPLOYED', 'DAYS_REGISTRATION', 'DAYS_ID_PUBLISH', 'FLAG_MOBIL', 'FLAG_EMP_PHONE', 'FLAG_WORK_PHONE', 'FLAG_CONT_MOBILE', 'FLAG_PHONE', 'FLAG_EMAIL', 'CNT_FAM_MEMBERS', 'REGION_RATING_CLIENT', 'REGION_RATING_CLIENT_W_CITY', 'HOUR_APPR_PROCESS_START', 'REG_REGION_NOT_LIVE_REGION', 'REG_REGION_NOT_WORK_REGION', 'LIVE_REGION_NOT_WORK_REGION', 'REG_CITY_NOT_LIVE_CITY', 'REG_CITY_NOT_WORK_CITY', 'LIVE_CITY_NOT_WORK_CITY', 'EXT_SOURCE_2', 'OBS_30_CNT_SOCIAL_CIRCLE', 'DEF_30_CNT_SOCIAL_CIRCLE', 'OBS_60_CNT_SOCIAL_CIRCLE', 'DEF_60_CNT_SOCIAL_CIRCLE', 'DAYS_LAST_PHONE_CHANGE', 'FLAG_DOCUMENT_2', 'FLAG_DOCUMENT_3', 'FLAG_DOCUMENT_4', 'FLAG_DOCUMENT_5', 'FLAG_DOCUMENT_6', 'FLAG_DOCUMENT_7', 'FLAG_DOCUMENT_8', 'FLAG_DOCUMENT_9', 'FLAG_DOCUMENT_10', 'FLAG_DOCUMENT_11', 'FLAG_DOCUMENT_12', 'FLAG_DOCUMENT_13', 'FLAG_DOCUMENT_14', 'FLAG_DOCUMENT_15', 'FLAG_DOCUMENT_16', 'FLAG_DOCUMENT_17', 'FLAG_DOCUMENT_18', 'FLAG_DOCUMENT_19', 'FLAG_DOCUMENT_20', 'FLAG_DOCUMENT_21']\n",
            "\n",
            "Categorical Columns with Low Missing Percentage: 11\n",
            "['NAME_CONTRACT_TYPE', 'CODE_GENDER', 'FLAG_OWN_CAR', 'FLAG_OWN_REALTY', 'NAME_TYPE_SUITE', 'NAME_INCOME_TYPE', 'NAME_EDUCATION_TYPE', 'NAME_FAMILY_STATUS', 'NAME_HOUSING_TYPE', 'WEEKDAY_APPR_PROCESS_START', 'ORGANIZATION_TYPE']\n"
          ]
        },
        {
          "output_type": "stream",
          "name": "stderr",
          "text": [
            "<ipython-input-4-78dc3bafe29d>:18: FutureWarning: A value is trying to be set on a copy of a DataFrame or Series through chained assignment using an inplace method.\n",
            "The behavior will change in pandas 3.0. This inplace method will never work because the intermediate object on which we are setting values always behaves as a copy.\n",
            "\n",
            "For example, when doing 'df[col].method(value, inplace=True)', try using 'df.method({col: value}, inplace=True)' or df[col] = df[col].method(value) instead, to perform the operation inplace on the original object.\n",
            "\n",
            "\n",
            "  df[col].fillna(df[col].mean(), inplace=True)\n",
            "<ipython-input-4-78dc3bafe29d>:22: FutureWarning: A value is trying to be set on a copy of a DataFrame or Series through chained assignment using an inplace method.\n",
            "The behavior will change in pandas 3.0. This inplace method will never work because the intermediate object on which we are setting values always behaves as a copy.\n",
            "\n",
            "For example, when doing 'df[col].method(value, inplace=True)', try using 'df.method({col: value}, inplace=True)' or df[col] = df[col].method(value) instead, to perform the operation inplace on the original object.\n",
            "\n",
            "\n",
            "  df[col].fillna(df[col].mode()[0], inplace=True)\n"
          ]
        },
        {
          "output_type": "stream",
          "name": "stdout",
          "text": [
            "\n",
            "Missing Values After Imputation:\n",
            "SK_ID_CURR            0\n",
            "TARGET                0\n",
            "NAME_CONTRACT_TYPE    0\n",
            "CODE_GENDER           0\n",
            "FLAG_OWN_CAR          0\n",
            "                     ..\n",
            "FLAG_DOCUMENT_17      0\n",
            "FLAG_DOCUMENT_18      0\n",
            "FLAG_DOCUMENT_19      0\n",
            "FLAG_DOCUMENT_20      0\n",
            "FLAG_DOCUMENT_21      0\n",
            "Length: 65, dtype: int64\n",
            "Numerical Columns with Missing Values Filled:\n",
            "\n",
            "SK_ID_CURR (First 10 values):\n",
            "0    100002\n",
            "1    100003\n",
            "2    100004\n",
            "3    100006\n",
            "4    100007\n",
            "Name: SK_ID_CURR, dtype: int64\n",
            "\n",
            "TARGET (First 10 values):\n",
            "0    1\n",
            "1    0\n",
            "2    0\n",
            "3    0\n",
            "4    0\n",
            "Name: TARGET, dtype: int64\n",
            "\n",
            "CNT_CHILDREN (First 10 values):\n",
            "0    0\n",
            "1    0\n",
            "2    0\n",
            "3    0\n",
            "4    0\n",
            "Name: CNT_CHILDREN, dtype: int64\n",
            "\n",
            "AMT_INCOME_TOTAL (First 10 values):\n",
            "0    202500.0\n",
            "1    270000.0\n",
            "2     67500.0\n",
            "3    135000.0\n",
            "4    121500.0\n",
            "Name: AMT_INCOME_TOTAL, dtype: float64\n",
            "\n",
            "AMT_CREDIT (First 10 values):\n",
            "0     406597.5\n",
            "1    1293502.5\n",
            "2     135000.0\n",
            "3     312682.5\n",
            "4     513000.0\n",
            "Name: AMT_CREDIT, dtype: float64\n",
            "\n",
            "AMT_ANNUITY (First 10 values):\n",
            "0    24700.5\n",
            "1    35698.5\n",
            "2     6750.0\n",
            "3    29686.5\n",
            "4    21865.5\n",
            "Name: AMT_ANNUITY, dtype: float64\n",
            "\n",
            "AMT_GOODS_PRICE (First 10 values):\n",
            "0     351000.0\n",
            "1    1129500.0\n",
            "2     135000.0\n",
            "3     297000.0\n",
            "4     513000.0\n",
            "Name: AMT_GOODS_PRICE, dtype: float64\n",
            "\n",
            "REGION_POPULATION_RELATIVE (First 10 values):\n",
            "0    0.018801\n",
            "1    0.003541\n",
            "2    0.010032\n",
            "3    0.008019\n",
            "4    0.028663\n",
            "Name: REGION_POPULATION_RELATIVE, dtype: float64\n",
            "\n",
            "DAYS_BIRTH (First 10 values):\n",
            "0    -9461\n",
            "1   -16765\n",
            "2   -19046\n",
            "3   -19005\n",
            "4   -19932\n",
            "Name: DAYS_BIRTH, dtype: int64\n",
            "\n",
            "DAYS_EMPLOYED (First 10 values):\n",
            "0    -637\n",
            "1   -1188\n",
            "2    -225\n",
            "3   -3039\n",
            "4   -3038\n",
            "Name: DAYS_EMPLOYED, dtype: int64\n",
            "\n",
            "DAYS_REGISTRATION (First 10 values):\n",
            "0   -3648.0\n",
            "1   -1186.0\n",
            "2   -4260.0\n",
            "3   -9833.0\n",
            "4   -4311.0\n",
            "Name: DAYS_REGISTRATION, dtype: float64\n",
            "\n",
            "DAYS_ID_PUBLISH (First 10 values):\n",
            "0   -2120\n",
            "1    -291\n",
            "2   -2531\n",
            "3   -2437\n",
            "4   -3458\n",
            "Name: DAYS_ID_PUBLISH, dtype: int64\n",
            "\n",
            "FLAG_MOBIL (First 10 values):\n",
            "0    1\n",
            "1    1\n",
            "2    1\n",
            "3    1\n",
            "4    1\n",
            "Name: FLAG_MOBIL, dtype: int64\n",
            "\n",
            "FLAG_EMP_PHONE (First 10 values):\n",
            "0    1\n",
            "1    1\n",
            "2    1\n",
            "3    1\n",
            "4    1\n",
            "Name: FLAG_EMP_PHONE, dtype: int64\n",
            "\n",
            "FLAG_WORK_PHONE (First 10 values):\n",
            "0    0\n",
            "1    0\n",
            "2    1\n",
            "3    0\n",
            "4    0\n",
            "Name: FLAG_WORK_PHONE, dtype: int64\n",
            "\n",
            "FLAG_CONT_MOBILE (First 10 values):\n",
            "0    1\n",
            "1    1\n",
            "2    1\n",
            "3    1\n",
            "4    1\n",
            "Name: FLAG_CONT_MOBILE, dtype: int64\n",
            "\n",
            "FLAG_PHONE (First 10 values):\n",
            "0    1\n",
            "1    1\n",
            "2    1\n",
            "3    0\n",
            "4    0\n",
            "Name: FLAG_PHONE, dtype: int64\n",
            "\n",
            "FLAG_EMAIL (First 10 values):\n",
            "0    0\n",
            "1    0\n",
            "2    0\n",
            "3    0\n",
            "4    0\n",
            "Name: FLAG_EMAIL, dtype: int64\n",
            "\n",
            "CNT_FAM_MEMBERS (First 10 values):\n",
            "0    1.0\n",
            "1    2.0\n",
            "2    1.0\n",
            "3    2.0\n",
            "4    1.0\n",
            "Name: CNT_FAM_MEMBERS, dtype: float64\n",
            "\n",
            "REGION_RATING_CLIENT (First 10 values):\n",
            "0    2\n",
            "1    1\n",
            "2    2\n",
            "3    2\n",
            "4    2\n",
            "Name: REGION_RATING_CLIENT, dtype: int64\n",
            "\n",
            "REGION_RATING_CLIENT_W_CITY (First 10 values):\n",
            "0    2\n",
            "1    1\n",
            "2    2\n",
            "3    2\n",
            "4    2\n",
            "Name: REGION_RATING_CLIENT_W_CITY, dtype: int64\n",
            "\n",
            "HOUR_APPR_PROCESS_START (First 10 values):\n",
            "0    10\n",
            "1    11\n",
            "2     9\n",
            "3    17\n",
            "4    11\n",
            "Name: HOUR_APPR_PROCESS_START, dtype: int64\n",
            "\n",
            "REG_REGION_NOT_LIVE_REGION (First 10 values):\n",
            "0    0\n",
            "1    0\n",
            "2    0\n",
            "3    0\n",
            "4    0\n",
            "Name: REG_REGION_NOT_LIVE_REGION, dtype: int64\n",
            "\n",
            "REG_REGION_NOT_WORK_REGION (First 10 values):\n",
            "0    0\n",
            "1    0\n",
            "2    0\n",
            "3    0\n",
            "4    0\n",
            "Name: REG_REGION_NOT_WORK_REGION, dtype: int64\n",
            "\n",
            "LIVE_REGION_NOT_WORK_REGION (First 10 values):\n",
            "0    0\n",
            "1    0\n",
            "2    0\n",
            "3    0\n",
            "4    0\n",
            "Name: LIVE_REGION_NOT_WORK_REGION, dtype: int64\n",
            "\n",
            "REG_CITY_NOT_LIVE_CITY (First 10 values):\n",
            "0    0\n",
            "1    0\n",
            "2    0\n",
            "3    0\n",
            "4    0\n",
            "Name: REG_CITY_NOT_LIVE_CITY, dtype: int64\n",
            "\n",
            "REG_CITY_NOT_WORK_CITY (First 10 values):\n",
            "0    0\n",
            "1    0\n",
            "2    0\n",
            "3    0\n",
            "4    1\n",
            "Name: REG_CITY_NOT_WORK_CITY, dtype: int64\n",
            "\n",
            "LIVE_CITY_NOT_WORK_CITY (First 10 values):\n",
            "0    0\n",
            "1    0\n",
            "2    0\n",
            "3    0\n",
            "4    1\n",
            "Name: LIVE_CITY_NOT_WORK_CITY, dtype: int64\n",
            "\n",
            "EXT_SOURCE_2 (First 10 values):\n",
            "0    0.262949\n",
            "1    0.622246\n",
            "2    0.555912\n",
            "3    0.650442\n",
            "4    0.322738\n",
            "Name: EXT_SOURCE_2, dtype: float64\n",
            "\n",
            "OBS_30_CNT_SOCIAL_CIRCLE (First 10 values):\n",
            "0    2.0\n",
            "1    1.0\n",
            "2    0.0\n",
            "3    2.0\n",
            "4    0.0\n",
            "Name: OBS_30_CNT_SOCIAL_CIRCLE, dtype: float64\n",
            "\n",
            "DEF_30_CNT_SOCIAL_CIRCLE (First 10 values):\n",
            "0    2.0\n",
            "1    0.0\n",
            "2    0.0\n",
            "3    0.0\n",
            "4    0.0\n",
            "Name: DEF_30_CNT_SOCIAL_CIRCLE, dtype: float64\n",
            "\n",
            "OBS_60_CNT_SOCIAL_CIRCLE (First 10 values):\n",
            "0    2.0\n",
            "1    1.0\n",
            "2    0.0\n",
            "3    2.0\n",
            "4    0.0\n",
            "Name: OBS_60_CNT_SOCIAL_CIRCLE, dtype: float64\n",
            "\n",
            "DEF_60_CNT_SOCIAL_CIRCLE (First 10 values):\n",
            "0    2.0\n",
            "1    0.0\n",
            "2    0.0\n",
            "3    0.0\n",
            "4    0.0\n",
            "Name: DEF_60_CNT_SOCIAL_CIRCLE, dtype: float64\n",
            "\n",
            "DAYS_LAST_PHONE_CHANGE (First 10 values):\n",
            "0   -1134.0\n",
            "1    -828.0\n",
            "2    -815.0\n",
            "3    -617.0\n",
            "4   -1106.0\n",
            "Name: DAYS_LAST_PHONE_CHANGE, dtype: float64\n",
            "\n",
            "FLAG_DOCUMENT_2 (First 10 values):\n",
            "0    0\n",
            "1    0\n",
            "2    0\n",
            "3    0\n",
            "4    0\n",
            "Name: FLAG_DOCUMENT_2, dtype: int64\n",
            "\n",
            "FLAG_DOCUMENT_3 (First 10 values):\n",
            "0    1\n",
            "1    1\n",
            "2    0\n",
            "3    1\n",
            "4    0\n",
            "Name: FLAG_DOCUMENT_3, dtype: int64\n",
            "\n",
            "FLAG_DOCUMENT_4 (First 10 values):\n",
            "0    0\n",
            "1    0\n",
            "2    0\n",
            "3    0\n",
            "4    0\n",
            "Name: FLAG_DOCUMENT_4, dtype: int64\n",
            "\n",
            "FLAG_DOCUMENT_5 (First 10 values):\n",
            "0    0\n",
            "1    0\n",
            "2    0\n",
            "3    0\n",
            "4    0\n",
            "Name: FLAG_DOCUMENT_5, dtype: int64\n",
            "\n",
            "FLAG_DOCUMENT_6 (First 10 values):\n",
            "0    0\n",
            "1    0\n",
            "2    0\n",
            "3    0\n",
            "4    0\n",
            "Name: FLAG_DOCUMENT_6, dtype: int64\n",
            "\n",
            "FLAG_DOCUMENT_7 (First 10 values):\n",
            "0    0\n",
            "1    0\n",
            "2    0\n",
            "3    0\n",
            "4    0\n",
            "Name: FLAG_DOCUMENT_7, dtype: int64\n",
            "\n",
            "FLAG_DOCUMENT_8 (First 10 values):\n",
            "0    0\n",
            "1    0\n",
            "2    0\n",
            "3    0\n",
            "4    1\n",
            "Name: FLAG_DOCUMENT_8, dtype: int64\n",
            "\n",
            "FLAG_DOCUMENT_9 (First 10 values):\n",
            "0    0\n",
            "1    0\n",
            "2    0\n",
            "3    0\n",
            "4    0\n",
            "Name: FLAG_DOCUMENT_9, dtype: int64\n",
            "\n",
            "FLAG_DOCUMENT_10 (First 10 values):\n",
            "0    0\n",
            "1    0\n",
            "2    0\n",
            "3    0\n",
            "4    0\n",
            "Name: FLAG_DOCUMENT_10, dtype: int64\n",
            "\n",
            "FLAG_DOCUMENT_11 (First 10 values):\n",
            "0    0\n",
            "1    0\n",
            "2    0\n",
            "3    0\n",
            "4    0\n",
            "Name: FLAG_DOCUMENT_11, dtype: int64\n",
            "\n",
            "FLAG_DOCUMENT_12 (First 10 values):\n",
            "0    0\n",
            "1    0\n",
            "2    0\n",
            "3    0\n",
            "4    0\n",
            "Name: FLAG_DOCUMENT_12, dtype: int64\n",
            "\n",
            "FLAG_DOCUMENT_13 (First 10 values):\n",
            "0    0\n",
            "1    0\n",
            "2    0\n",
            "3    0\n",
            "4    0\n",
            "Name: FLAG_DOCUMENT_13, dtype: int64\n",
            "\n",
            "FLAG_DOCUMENT_14 (First 10 values):\n",
            "0    0\n",
            "1    0\n",
            "2    0\n",
            "3    0\n",
            "4    0\n",
            "Name: FLAG_DOCUMENT_14, dtype: int64\n",
            "\n",
            "FLAG_DOCUMENT_15 (First 10 values):\n",
            "0    0\n",
            "1    0\n",
            "2    0\n",
            "3    0\n",
            "4    0\n",
            "Name: FLAG_DOCUMENT_15, dtype: int64\n",
            "\n",
            "FLAG_DOCUMENT_16 (First 10 values):\n",
            "0    0\n",
            "1    0\n",
            "2    0\n",
            "3    0\n",
            "4    0\n",
            "Name: FLAG_DOCUMENT_16, dtype: int64\n",
            "\n",
            "FLAG_DOCUMENT_17 (First 10 values):\n",
            "0    0\n",
            "1    0\n",
            "2    0\n",
            "3    0\n",
            "4    0\n",
            "Name: FLAG_DOCUMENT_17, dtype: int64\n",
            "\n",
            "FLAG_DOCUMENT_18 (First 10 values):\n",
            "0    0\n",
            "1    0\n",
            "2    0\n",
            "3    0\n",
            "4    0\n",
            "Name: FLAG_DOCUMENT_18, dtype: int64\n",
            "\n",
            "FLAG_DOCUMENT_19 (First 10 values):\n",
            "0    0\n",
            "1    0\n",
            "2    0\n",
            "3    0\n",
            "4    0\n",
            "Name: FLAG_DOCUMENT_19, dtype: int64\n",
            "\n",
            "FLAG_DOCUMENT_20 (First 10 values):\n",
            "0    0\n",
            "1    0\n",
            "2    0\n",
            "3    0\n",
            "4    0\n",
            "Name: FLAG_DOCUMENT_20, dtype: int64\n",
            "\n",
            "FLAG_DOCUMENT_21 (First 10 values):\n",
            "0    0\n",
            "1    0\n",
            "2    0\n",
            "3    0\n",
            "4    0\n",
            "Name: FLAG_DOCUMENT_21, dtype: int64\n",
            "\n",
            "Categorical Columns with Missing Values Filled:\n",
            "\n",
            "NAME_CONTRACT_TYPE (First 10 values):\n",
            "0         Cash loans\n",
            "1         Cash loans\n",
            "2    Revolving loans\n",
            "3         Cash loans\n",
            "4         Cash loans\n",
            "Name: NAME_CONTRACT_TYPE, dtype: object\n",
            "\n",
            "CODE_GENDER (First 10 values):\n",
            "0    M\n",
            "1    F\n",
            "2    M\n",
            "3    F\n",
            "4    M\n",
            "Name: CODE_GENDER, dtype: object\n",
            "\n",
            "FLAG_OWN_CAR (First 10 values):\n",
            "0    N\n",
            "1    N\n",
            "2    Y\n",
            "3    N\n",
            "4    N\n",
            "Name: FLAG_OWN_CAR, dtype: object\n",
            "\n",
            "FLAG_OWN_REALTY (First 10 values):\n",
            "0    Y\n",
            "1    N\n",
            "2    Y\n",
            "3    Y\n",
            "4    Y\n",
            "Name: FLAG_OWN_REALTY, dtype: object\n",
            "\n",
            "NAME_TYPE_SUITE (First 10 values):\n",
            "0    Unaccompanied\n",
            "1           Family\n",
            "2    Unaccompanied\n",
            "3    Unaccompanied\n",
            "4    Unaccompanied\n",
            "Name: NAME_TYPE_SUITE, dtype: object\n",
            "\n",
            "NAME_INCOME_TYPE (First 10 values):\n",
            "0          Working\n",
            "1    State servant\n",
            "2          Working\n",
            "3          Working\n",
            "4          Working\n",
            "Name: NAME_INCOME_TYPE, dtype: object\n",
            "\n",
            "NAME_EDUCATION_TYPE (First 10 values):\n",
            "0    Secondary / secondary special\n",
            "1                 Higher education\n",
            "2    Secondary / secondary special\n",
            "3    Secondary / secondary special\n",
            "4    Secondary / secondary special\n",
            "Name: NAME_EDUCATION_TYPE, dtype: object\n",
            "\n",
            "NAME_FAMILY_STATUS (First 10 values):\n",
            "0    Single / not married\n",
            "1                 Married\n",
            "2    Single / not married\n",
            "3          Civil marriage\n",
            "4    Single / not married\n",
            "Name: NAME_FAMILY_STATUS, dtype: object\n",
            "\n",
            "NAME_HOUSING_TYPE (First 10 values):\n",
            "0    House / apartment\n",
            "1    House / apartment\n",
            "2    House / apartment\n",
            "3    House / apartment\n",
            "4    House / apartment\n",
            "Name: NAME_HOUSING_TYPE, dtype: object\n",
            "\n",
            "WEEKDAY_APPR_PROCESS_START (First 10 values):\n",
            "0    WEDNESDAY\n",
            "1       MONDAY\n",
            "2       MONDAY\n",
            "3    WEDNESDAY\n",
            "4     THURSDAY\n",
            "Name: WEEKDAY_APPR_PROCESS_START, dtype: object\n",
            "\n",
            "ORGANIZATION_TYPE (First 10 values):\n",
            "0    Business Entity Type 3\n",
            "1                    School\n",
            "2                Government\n",
            "3    Business Entity Type 3\n",
            "4                  Religion\n",
            "Name: ORGANIZATION_TYPE, dtype: object\n",
            "The data columns have been saved to 'filled_data_columns.csv'.\n"
          ]
        },
        {
          "output_type": "execute_result",
          "data": {
            "text/plain": [
              "\"\\n#from google.colab import files\\nfiles.download('filled_data_columns.csv')\""
            ],
            "application/vnd.google.colaboratory.intrinsic+json": {
              "type": "string"
            }
          },
          "metadata": {},
          "execution_count": 4
        }
      ]
    },
    {
      "cell_type": "markdown",
      "source": [
        "Handling Columns with Moderate Missingness (5% - 50%)"
      ],
      "metadata": {
        "id": "RDz8znnU8n_B"
      }
    },
    {
      "cell_type": "code",
      "source": [
        "# Step 1: Identify Columns with Moderate Missingness (5% - 50%)\n",
        "print(f\"Columns with Moderate Missingness (5% - 50%): {len(moderate_missing_cols)} columns\")\n",
        "print(moderate_missing_cols)\n",
        "\n",
        "# Step 2: Separate Columns by Data Type\n",
        "moderate_missing_numerical = [col for col in moderate_missing_cols if df[col].dtype in ['float64', 'int64']]\n",
        "moderate_missing_categorical = [col for col in moderate_missing_cols if df[col].dtype == 'object']\n",
        "\n",
        "print(f\"\\nNumerical Columns with Moderate Missingness: {len(moderate_missing_numerical)}\")\n",
        "print(moderate_missing_numerical)\n",
        "\n",
        "print(f\"\\nCategorical Columns with Moderate Missingness: {len(moderate_missing_categorical)}\")\n",
        "print(moderate_missing_categorical)\n",
        "\n",
        "# Step 3: Decide and Apply Imputation\n",
        "# For numerical columns, impute with median (more robust to outliers)\n",
        "for col in moderate_missing_numerical:\n",
        "    df[col].fillna(df[col].median(), inplace=True)\n",
        "\n",
        "# For categorical columns, impute with mode\n",
        "for col in moderate_missing_categorical:\n",
        "    df[col].fillna(df[col].mode()[0], inplace=True)\n",
        "\n",
        "# Step 4: Verify Imputation\n",
        "# Check missing values in moderate missing columns\n",
        "missing_after_imputation = df[moderate_missing_cols].isnull().sum()\n",
        "print(\"\\nMissing Values After Imputation in Moderate Missingness Columns:\")\n",
        "print(missing_after_imputation)\n",
        "\n",
        "# Preview the first 5 rows of the columns with moderate missingness after imputation\n",
        "print(\"\\nPreview of Cleaned Moderate Missingness Columns (First 5 Rows):\")\n",
        "for col in moderate_missing_cols:\n",
        "    print(f\"\\n{col}:\")\n",
        "    print(df[col].head(5))  # Display first 5 values for inspection\n",
        "\n",
        "\n",
        "# Save the entire DataFrame (or just the moderate missing columns) to a CSV file\n",
        "df[moderate_missing_cols].to_csv('moderate_missing_data_filled.csv', index=False)\n",
        "\n",
        "print(\"The columns with moderate missingness have been saved to 'moderate_missing_data_filled.csv'.\")\n",
        "'''\n",
        "from google.colab import files\n",
        "files.download('moderate_missing_data_filled.csv') '''\n",
        "\n",
        "# Step 6: Count total missing values in the entire dataset\n",
        "total_missing_values = df.isnull().sum().sum()\n",
        "print(f\"\\nTotal Missing Values in Entire Dataset After Imputation: {total_missing_values}\")\n"
      ],
      "metadata": {
        "id": "jqN59YV38p4Y",
        "colab": {
          "base_uri": "https://localhost:8080/"
        },
        "outputId": "8d331318-9b0c-4e0b-ad54-14591a732176"
      },
      "execution_count": null,
      "outputs": [
        {
          "output_type": "stream",
          "name": "stdout",
          "text": [
            "Columns with Moderate Missingness (5% - 50%): 16 columns\n",
            "['OCCUPATION_TYPE', 'EXT_SOURCE_3', 'YEARS_BEGINEXPLUATATION_AVG', 'FLOORSMAX_AVG', 'YEARS_BEGINEXPLUATATION_MODE', 'FLOORSMAX_MODE', 'YEARS_BEGINEXPLUATATION_MEDI', 'FLOORSMAX_MEDI', 'TOTALAREA_MODE', 'EMERGENCYSTATE_MODE', 'AMT_REQ_CREDIT_BUREAU_HOUR', 'AMT_REQ_CREDIT_BUREAU_DAY', 'AMT_REQ_CREDIT_BUREAU_WEEK', 'AMT_REQ_CREDIT_BUREAU_MON', 'AMT_REQ_CREDIT_BUREAU_QRT', 'AMT_REQ_CREDIT_BUREAU_YEAR']\n",
            "\n",
            "Numerical Columns with Moderate Missingness: 14\n",
            "['EXT_SOURCE_3', 'YEARS_BEGINEXPLUATATION_AVG', 'FLOORSMAX_AVG', 'YEARS_BEGINEXPLUATATION_MODE', 'FLOORSMAX_MODE', 'YEARS_BEGINEXPLUATATION_MEDI', 'FLOORSMAX_MEDI', 'TOTALAREA_MODE', 'AMT_REQ_CREDIT_BUREAU_HOUR', 'AMT_REQ_CREDIT_BUREAU_DAY', 'AMT_REQ_CREDIT_BUREAU_WEEK', 'AMT_REQ_CREDIT_BUREAU_MON', 'AMT_REQ_CREDIT_BUREAU_QRT', 'AMT_REQ_CREDIT_BUREAU_YEAR']\n",
            "\n",
            "Categorical Columns with Moderate Missingness: 2\n",
            "['OCCUPATION_TYPE', 'EMERGENCYSTATE_MODE']\n"
          ]
        },
        {
          "output_type": "stream",
          "name": "stderr",
          "text": [
            "<ipython-input-5-b66741d5d6ba>:18: FutureWarning: A value is trying to be set on a copy of a DataFrame or Series through chained assignment using an inplace method.\n",
            "The behavior will change in pandas 3.0. This inplace method will never work because the intermediate object on which we are setting values always behaves as a copy.\n",
            "\n",
            "For example, when doing 'df[col].method(value, inplace=True)', try using 'df.method({col: value}, inplace=True)' or df[col] = df[col].method(value) instead, to perform the operation inplace on the original object.\n",
            "\n",
            "\n",
            "  df[col].fillna(df[col].median(), inplace=True)\n",
            "<ipython-input-5-b66741d5d6ba>:22: FutureWarning: A value is trying to be set on a copy of a DataFrame or Series through chained assignment using an inplace method.\n",
            "The behavior will change in pandas 3.0. This inplace method will never work because the intermediate object on which we are setting values always behaves as a copy.\n",
            "\n",
            "For example, when doing 'df[col].method(value, inplace=True)', try using 'df.method({col: value}, inplace=True)' or df[col] = df[col].method(value) instead, to perform the operation inplace on the original object.\n",
            "\n",
            "\n",
            "  df[col].fillna(df[col].mode()[0], inplace=True)\n"
          ]
        },
        {
          "output_type": "stream",
          "name": "stdout",
          "text": [
            "\n",
            "Missing Values After Imputation in Moderate Missingness Columns:\n",
            "OCCUPATION_TYPE                 0\n",
            "EXT_SOURCE_3                    0\n",
            "YEARS_BEGINEXPLUATATION_AVG     0\n",
            "FLOORSMAX_AVG                   0\n",
            "YEARS_BEGINEXPLUATATION_MODE    0\n",
            "FLOORSMAX_MODE                  0\n",
            "YEARS_BEGINEXPLUATATION_MEDI    0\n",
            "FLOORSMAX_MEDI                  0\n",
            "TOTALAREA_MODE                  0\n",
            "EMERGENCYSTATE_MODE             0\n",
            "AMT_REQ_CREDIT_BUREAU_HOUR      0\n",
            "AMT_REQ_CREDIT_BUREAU_DAY       0\n",
            "AMT_REQ_CREDIT_BUREAU_WEEK      0\n",
            "AMT_REQ_CREDIT_BUREAU_MON       0\n",
            "AMT_REQ_CREDIT_BUREAU_QRT       0\n",
            "AMT_REQ_CREDIT_BUREAU_YEAR      0\n",
            "dtype: int64\n",
            "\n",
            "Preview of Cleaned Moderate Missingness Columns (First 5 Rows):\n",
            "\n",
            "OCCUPATION_TYPE:\n",
            "0      Laborers\n",
            "1    Core staff\n",
            "2      Laborers\n",
            "3      Laborers\n",
            "4    Core staff\n",
            "Name: OCCUPATION_TYPE, dtype: object\n",
            "\n",
            "EXT_SOURCE_3:\n",
            "0    0.139376\n",
            "1    0.535276\n",
            "2    0.729567\n",
            "3    0.535276\n",
            "4    0.535276\n",
            "Name: EXT_SOURCE_3, dtype: float64\n",
            "\n",
            "YEARS_BEGINEXPLUATATION_AVG:\n",
            "0    0.9722\n",
            "1    0.9851\n",
            "2    0.9816\n",
            "3    0.9816\n",
            "4    0.9816\n",
            "Name: YEARS_BEGINEXPLUATATION_AVG, dtype: float64\n",
            "\n",
            "FLOORSMAX_AVG:\n",
            "0    0.0833\n",
            "1    0.2917\n",
            "2    0.1667\n",
            "3    0.1667\n",
            "4    0.1667\n",
            "Name: FLOORSMAX_AVG, dtype: float64\n",
            "\n",
            "YEARS_BEGINEXPLUATATION_MODE:\n",
            "0    0.9722\n",
            "1    0.9851\n",
            "2    0.9816\n",
            "3    0.9816\n",
            "4    0.9816\n",
            "Name: YEARS_BEGINEXPLUATATION_MODE, dtype: float64\n",
            "\n",
            "FLOORSMAX_MODE:\n",
            "0    0.0833\n",
            "1    0.2917\n",
            "2    0.1667\n",
            "3    0.1667\n",
            "4    0.1667\n",
            "Name: FLOORSMAX_MODE, dtype: float64\n",
            "\n",
            "YEARS_BEGINEXPLUATATION_MEDI:\n",
            "0    0.9722\n",
            "1    0.9851\n",
            "2    0.9816\n",
            "3    0.9816\n",
            "4    0.9816\n",
            "Name: YEARS_BEGINEXPLUATATION_MEDI, dtype: float64\n",
            "\n",
            "FLOORSMAX_MEDI:\n",
            "0    0.0833\n",
            "1    0.2917\n",
            "2    0.1667\n",
            "3    0.1667\n",
            "4    0.1667\n",
            "Name: FLOORSMAX_MEDI, dtype: float64\n",
            "\n",
            "TOTALAREA_MODE:\n",
            "0    0.0149\n",
            "1    0.0714\n",
            "2    0.0688\n",
            "3    0.0688\n",
            "4    0.0688\n",
            "Name: TOTALAREA_MODE, dtype: float64\n",
            "\n",
            "EMERGENCYSTATE_MODE:\n",
            "0    No\n",
            "1    No\n",
            "2    No\n",
            "3    No\n",
            "4    No\n",
            "Name: EMERGENCYSTATE_MODE, dtype: object\n",
            "\n",
            "AMT_REQ_CREDIT_BUREAU_HOUR:\n",
            "0    0.0\n",
            "1    0.0\n",
            "2    0.0\n",
            "3    0.0\n",
            "4    0.0\n",
            "Name: AMT_REQ_CREDIT_BUREAU_HOUR, dtype: float64\n",
            "\n",
            "AMT_REQ_CREDIT_BUREAU_DAY:\n",
            "0    0.0\n",
            "1    0.0\n",
            "2    0.0\n",
            "3    0.0\n",
            "4    0.0\n",
            "Name: AMT_REQ_CREDIT_BUREAU_DAY, dtype: float64\n",
            "\n",
            "AMT_REQ_CREDIT_BUREAU_WEEK:\n",
            "0    0.0\n",
            "1    0.0\n",
            "2    0.0\n",
            "3    0.0\n",
            "4    0.0\n",
            "Name: AMT_REQ_CREDIT_BUREAU_WEEK, dtype: float64\n",
            "\n",
            "AMT_REQ_CREDIT_BUREAU_MON:\n",
            "0    0.0\n",
            "1    0.0\n",
            "2    0.0\n",
            "3    0.0\n",
            "4    0.0\n",
            "Name: AMT_REQ_CREDIT_BUREAU_MON, dtype: float64\n",
            "\n",
            "AMT_REQ_CREDIT_BUREAU_QRT:\n",
            "0    0.0\n",
            "1    0.0\n",
            "2    0.0\n",
            "3    0.0\n",
            "4    0.0\n",
            "Name: AMT_REQ_CREDIT_BUREAU_QRT, dtype: float64\n",
            "\n",
            "AMT_REQ_CREDIT_BUREAU_YEAR:\n",
            "0    1.0\n",
            "1    0.0\n",
            "2    0.0\n",
            "3    1.0\n",
            "4    0.0\n",
            "Name: AMT_REQ_CREDIT_BUREAU_YEAR, dtype: float64\n",
            "The columns with moderate missingness have been saved to 'moderate_missing_data_filled.csv'.\n",
            "\n",
            "Total Missing Values in Entire Dataset After Imputation: 7536399\n"
          ]
        }
      ]
    },
    {
      "cell_type": "markdown",
      "source": [
        "identify high missing values precentages(>50%)"
      ],
      "metadata": {
        "id": "uGFTmAWT37zP"
      }
    },
    {
      "cell_type": "code",
      "source": [
        "# Step 1: Identify columns with >50% missing values\n",
        "high_missing_columns = missing_percentage[missing_percentage > 50].index.tolist()  # Convert to list\n",
        "\n",
        "# Step 2: Display the columns and their percentages\n",
        "print(\"High Missing Value Columns and Percentages:\")\n",
        "print(missing_percentage[missing_percentage > 50])\n",
        "\n",
        "# Step 3: Number of high-missing columns\n",
        "print(\"\\nTotal Number of High Missing Value Columns:\", len(high_missing_columns))\n"
      ],
      "metadata": {
        "colab": {
          "base_uri": "https://localhost:8080/"
        },
        "id": "sKU53_Chy2YD",
        "outputId": "30b67833-6727-4893-8c91-78e8d8c505b8"
      },
      "execution_count": null,
      "outputs": [
        {
          "output_type": "stream",
          "name": "stdout",
          "text": [
            "High Missing Value Columns and Percentages:\n",
            "OWN_CAR_AGE                 65.990810\n",
            "EXT_SOURCE_1                56.381073\n",
            "APARTMENTS_AVG              50.749729\n",
            "BASEMENTAREA_AVG            58.515956\n",
            "YEARS_BUILD_AVG             66.497784\n",
            "COMMONAREA_AVG              69.872297\n",
            "ELEVATORS_AVG               53.295980\n",
            "ENTRANCES_AVG               50.348768\n",
            "FLOORSMIN_AVG               67.848630\n",
            "LANDAREA_AVG                59.376738\n",
            "LIVINGAPARTMENTS_AVG        68.354953\n",
            "LIVINGAREA_AVG              50.193326\n",
            "NONLIVINGAPARTMENTS_AVG     69.432963\n",
            "NONLIVINGAREA_AVG           55.179164\n",
            "APARTMENTS_MODE             50.749729\n",
            "BASEMENTAREA_MODE           58.515956\n",
            "YEARS_BUILD_MODE            66.497784\n",
            "COMMONAREA_MODE             69.872297\n",
            "ELEVATORS_MODE              53.295980\n",
            "ENTRANCES_MODE              50.348768\n",
            "FLOORSMIN_MODE              67.848630\n",
            "LANDAREA_MODE               59.376738\n",
            "LIVINGAPARTMENTS_MODE       68.354953\n",
            "LIVINGAREA_MODE             50.193326\n",
            "NONLIVINGAPARTMENTS_MODE    69.432963\n",
            "NONLIVINGAREA_MODE          55.179164\n",
            "APARTMENTS_MEDI             50.749729\n",
            "BASEMENTAREA_MEDI           58.515956\n",
            "YEARS_BUILD_MEDI            66.497784\n",
            "COMMONAREA_MEDI             69.872297\n",
            "ELEVATORS_MEDI              53.295980\n",
            "ENTRANCES_MEDI              50.348768\n",
            "FLOORSMIN_MEDI              67.848630\n",
            "LANDAREA_MEDI               59.376738\n",
            "LIVINGAPARTMENTS_MEDI       68.354953\n",
            "LIVINGAREA_MEDI             50.193326\n",
            "NONLIVINGAPARTMENTS_MEDI    69.432963\n",
            "NONLIVINGAREA_MEDI          55.179164\n",
            "FONDKAPREMONT_MODE          68.386172\n",
            "HOUSETYPE_MODE              50.176091\n",
            "WALLSMATERIAL_MODE          50.840783\n",
            "dtype: float64\n",
            "\n",
            "Total Number of High Missing Value Columns: 41\n"
          ]
        }
      ]
    },
    {
      "cell_type": "markdown",
      "source": [
        "check the correlaiton with target variable(numerical)"
      ],
      "metadata": {
        "id": "oVutlct99jWj"
      }
    },
    {
      "cell_type": "code",
      "source": [
        "# Step 4: Filter the numerical columns from the high missing columns\n",
        "numerical_columns = df[high_missing_columns].select_dtypes(include=['float64', 'int64']).columns\n",
        "\n",
        "# Step 5: Display numerical columns\n",
        "print(\"\\nNumerical Columns with High Missing Values:\")\n",
        "print(numerical_columns)\n",
        "print(\"\\nTotal Number of numerical Columns:\", len(numerical_columns))\n",
        "\n",
        "# Step 6: Calculate the correlation with the target variable (if the columns are numerical)\n",
        "correlation_with_target = df[numerical_columns].corrwith(df['TARGET'])\n",
        "\n",
        "# Display the correlation results\n",
        "print(\"\\nCorrelation with TARGET:\")\n",
        "print(correlation_with_target)\n"
      ],
      "metadata": {
        "colab": {
          "base_uri": "https://localhost:8080/"
        },
        "id": "wj0yuB6G4cjC",
        "outputId": "a43c27f3-46a5-4c23-e3c1-1f210d520626"
      },
      "execution_count": null,
      "outputs": [
        {
          "output_type": "stream",
          "name": "stdout",
          "text": [
            "\n",
            "Numerical Columns with High Missing Values:\n",
            "Index(['OWN_CAR_AGE', 'EXT_SOURCE_1', 'APARTMENTS_AVG', 'BASEMENTAREA_AVG',\n",
            "       'YEARS_BUILD_AVG', 'COMMONAREA_AVG', 'ELEVATORS_AVG', 'ENTRANCES_AVG',\n",
            "       'FLOORSMIN_AVG', 'LANDAREA_AVG', 'LIVINGAPARTMENTS_AVG',\n",
            "       'LIVINGAREA_AVG', 'NONLIVINGAPARTMENTS_AVG', 'NONLIVINGAREA_AVG',\n",
            "       'APARTMENTS_MODE', 'BASEMENTAREA_MODE', 'YEARS_BUILD_MODE',\n",
            "       'COMMONAREA_MODE', 'ELEVATORS_MODE', 'ENTRANCES_MODE', 'FLOORSMIN_MODE',\n",
            "       'LANDAREA_MODE', 'LIVINGAPARTMENTS_MODE', 'LIVINGAREA_MODE',\n",
            "       'NONLIVINGAPARTMENTS_MODE', 'NONLIVINGAREA_MODE', 'APARTMENTS_MEDI',\n",
            "       'BASEMENTAREA_MEDI', 'YEARS_BUILD_MEDI', 'COMMONAREA_MEDI',\n",
            "       'ELEVATORS_MEDI', 'ENTRANCES_MEDI', 'FLOORSMIN_MEDI', 'LANDAREA_MEDI',\n",
            "       'LIVINGAPARTMENTS_MEDI', 'LIVINGAREA_MEDI', 'NONLIVINGAPARTMENTS_MEDI',\n",
            "       'NONLIVINGAREA_MEDI'],\n",
            "      dtype='object')\n",
            "\n",
            "Total Number of numerical Columns: 38\n",
            "\n",
            "Correlation with TARGET:\n",
            "OWN_CAR_AGE                 0.037612\n",
            "EXT_SOURCE_1               -0.155317\n",
            "APARTMENTS_AVG             -0.029498\n",
            "BASEMENTAREA_AVG           -0.022746\n",
            "YEARS_BUILD_AVG            -0.022149\n",
            "COMMONAREA_AVG             -0.018550\n",
            "ELEVATORS_AVG              -0.034199\n",
            "ENTRANCES_AVG              -0.019172\n",
            "FLOORSMIN_AVG              -0.033614\n",
            "LANDAREA_AVG               -0.010885\n",
            "LIVINGAPARTMENTS_AVG       -0.025031\n",
            "LIVINGAREA_AVG             -0.032997\n",
            "NONLIVINGAPARTMENTS_AVG    -0.003176\n",
            "NONLIVINGAREA_AVG          -0.013578\n",
            "APARTMENTS_MODE            -0.027284\n",
            "BASEMENTAREA_MODE          -0.019952\n",
            "YEARS_BUILD_MODE           -0.022068\n",
            "COMMONAREA_MODE            -0.016340\n",
            "ELEVATORS_MODE             -0.032131\n",
            "ENTRANCES_MODE             -0.017387\n",
            "FLOORSMIN_MODE             -0.032698\n",
            "LANDAREA_MODE              -0.010174\n",
            "LIVINGAPARTMENTS_MODE      -0.023393\n",
            "LIVINGAREA_MODE            -0.030685\n",
            "NONLIVINGAPARTMENTS_MODE   -0.001557\n",
            "NONLIVINGAREA_MODE         -0.012711\n",
            "APARTMENTS_MEDI            -0.029184\n",
            "BASEMENTAREA_MEDI          -0.022081\n",
            "YEARS_BUILD_MEDI           -0.022326\n",
            "COMMONAREA_MEDI            -0.018573\n",
            "ELEVATORS_MEDI             -0.033863\n",
            "ENTRANCES_MEDI             -0.019025\n",
            "FLOORSMIN_MEDI             -0.033394\n",
            "LANDAREA_MEDI              -0.011256\n",
            "LIVINGAPARTMENTS_MEDI      -0.024621\n",
            "LIVINGAREA_MEDI            -0.032739\n",
            "NONLIVINGAPARTMENTS_MEDI   -0.002757\n",
            "NONLIVINGAREA_MEDI         -0.013337\n",
            "dtype: float64\n"
          ]
        }
      ]
    },
    {
      "cell_type": "markdown",
      "source": [
        "check the correlation with target variable(categorical)"
      ],
      "metadata": {
        "id": "WRNUbcxDl6kZ"
      }
    },
    {
      "cell_type": "code",
      "source": [
        "from scipy.stats import pointbiserialr\n",
        "\n",
        "# Step 1: Identify high missing value categorical variables\n",
        "high_missing_columns = df.columns[df.isnull().mean() > 0.5]  # Columns with >50% missing values\n",
        "high_missing_categorical = df[high_missing_columns].select_dtypes(include=['object']).columns\n",
        "\n",
        "print(f\"High missing value categorical variables: {list(high_missing_categorical)}\")\n",
        "print(\"\\nTotal Number of High missing value categorical Columns:\", len(high_missing_categorical))\n",
        "\n",
        "# Step 2: Encode categorical variables into numerical format\n",
        "for column in high_missing_categorical:\n",
        "    df[column] = pd.factorize(df[column])[0]  # Factorize replaces categories with unique integers\n",
        "\n",
        "# Step 3: Compute Point Biserial Correlation for each high missing categorical variable\n",
        "pbc_results = {}\n",
        "\n",
        "for column in high_missing_categorical:\n",
        "    # Ensure no NaNs in the column before calculating correlation\n",
        "    if df[column].isnull().sum() == 0:\n",
        "        correlation, p_value = pointbiserialr(df[column], df['TARGET'])\n",
        "        pbc_results[column] = {\"Correlation\": correlation, \"p-value\": p_value}\n",
        "\n",
        "# Step 4: Display Results\n",
        "for col, stats in pbc_results.items():\n",
        "    print(f\"{col}: Correlation = {stats['Correlation']:.4f}, p-value = {stats['p-value']:.4f}\")\n"
      ],
      "metadata": {
        "colab": {
          "base_uri": "https://localhost:8080/"
        },
        "id": "4QnfPhmsmLh9",
        "outputId": "be70abbd-a0a4-412d-9cfd-7e7c062e2fbe"
      },
      "execution_count": null,
      "outputs": [
        {
          "output_type": "stream",
          "name": "stdout",
          "text": [
            "High missing value categorical variables: ['FONDKAPREMONT_MODE', 'HOUSETYPE_MODE', 'WALLSMATERIAL_MODE']\n",
            "\n",
            "Total Number of High missing value categorical Columns: 3\n",
            "FONDKAPREMONT_MODE: Correlation = -0.0240, p-value = 0.0000\n",
            "HOUSETYPE_MODE: Correlation = -0.0356, p-value = 0.0000\n",
            "WALLSMATERIAL_MODE: Correlation = -0.0336, p-value = 0.0000\n"
          ]
        }
      ]
    },
    {
      "cell_type": "markdown",
      "source": [
        "select the only suitable attributes within high missings and handle that missing values"
      ],
      "metadata": {
        "id": "ztA39ASF2SqK"
      }
    },
    {
      "cell_type": "code",
      "source": [
        "# Step 1: Define thresholds for correlation and p-value\n",
        "correlation_threshold = 0.1  # Absolute correlation value\n",
        "p_value_threshold = 0.05    # Statistical significance for Point Biserial Correlation\n",
        "\n",
        "# Step 2: Filter numerical attributes based on correlation with target\n",
        "suitable_numerical = correlation_with_target[\n",
        "    correlation_with_target.abs() > correlation_threshold\n",
        "].index.tolist()\n",
        "\n",
        "print(\"\\nSuitable Numerical Attributes:\", suitable_numerical)\n",
        "\n",
        "# Step 3: Filter categorical attributes based on Point Biserial Correlation and p-value\n",
        "suitable_categorical = [\n",
        "    col for col, stats in pbc_results.items()\n",
        "    if abs(stats['Correlation']) > correlation_threshold and stats['p-value'] < p_value_threshold\n",
        "]\n",
        "\n",
        "print(\"\\nSuitable Categorical Attributes:\", suitable_categorical)\n",
        "\n",
        "# Step 4: Extract suitable numerical and categorical columns from the dataframe\n",
        "suitable_data_numerical = df[suitable_numerical]\n",
        "suitable_data_categorical = df[suitable_categorical]\n",
        "\n",
        "# Step 5: Combine the suitable numerical and categorical columns\n",
        "suitable_data = pd.concat([suitable_data_numerical, suitable_data_categorical], axis=1)\n",
        "\n",
        "# Step 6: Impute missing values for numerical columns with median\n",
        "for col in suitable_numerical:\n",
        "    suitable_data[col].fillna(suitable_data[col].median(), inplace=True)\n",
        "\n",
        "# Step 7: Impute missing values for categorical columns with mode (most frequent value)\n",
        "for col in suitable_categorical:\n",
        "    suitable_data[col].fillna(suitable_data[col].mode()[0], inplace=True)\n",
        "\n",
        "# Step 8: Verify that all missing values are filled\n",
        "missing_after_imputation = suitable_data.isnull().sum()\n",
        "print(\"\\nMissing Values After Imputation in Suitable Data:\")\n",
        "print(missing_after_imputation)\n",
        "\n",
        "# Step 9: Optionally, preview the first few rows of the imputed data\n",
        "print(\"\\nPreview of Suitable Data After Imputation (First 10 Rows):\")\n",
        "print(suitable_data.head(10))\n",
        "\n",
        "# Step 10: Save the imputed data to a CSV file\n",
        "suitable_data.to_csv('suitable_data_filled.csv', index=False)\n",
        "\n",
        "'''\n",
        "# If using Google Colab, you can download the file:\n",
        "from google.colab import files\n",
        "files.download('suitable_data_filled.csv')'''\n",
        "\n",
        "print(\"\\nThe suitable data with imputed values has been saved to 'suitable_data_filled.csv'.\")\n"
      ],
      "metadata": {
        "colab": {
          "base_uri": "https://localhost:8080/"
        },
        "id": "2u_T_Z6iYkEF",
        "outputId": "f4df007c-171f-4ff5-c244-628485696249"
      },
      "execution_count": null,
      "outputs": [
        {
          "output_type": "stream",
          "name": "stdout",
          "text": [
            "\n",
            "Suitable Numerical Attributes: ['EXT_SOURCE_1']\n",
            "\n",
            "Suitable Categorical Attributes: []\n",
            "\n",
            "Missing Values After Imputation in Suitable Data:\n",
            "EXT_SOURCE_1    0\n",
            "dtype: int64\n",
            "\n",
            "Preview of Suitable Data After Imputation (First 10 Rows):\n",
            "   EXT_SOURCE_1\n",
            "0      0.083037\n",
            "1      0.311267\n",
            "2      0.505998\n",
            "3      0.505998\n",
            "4      0.505998\n",
            "5      0.505998\n",
            "6      0.774761\n",
            "7      0.505998\n",
            "8      0.587334\n",
            "9      0.505998\n"
          ]
        },
        {
          "output_type": "stream",
          "name": "stderr",
          "text": [
            "<ipython-input-9-ef3320c0cfae>:29: FutureWarning: A value is trying to be set on a copy of a DataFrame or Series through chained assignment using an inplace method.\n",
            "The behavior will change in pandas 3.0. This inplace method will never work because the intermediate object on which we are setting values always behaves as a copy.\n",
            "\n",
            "For example, when doing 'df[col].method(value, inplace=True)', try using 'df.method({col: value}, inplace=True)' or df[col] = df[col].method(value) instead, to perform the operation inplace on the original object.\n",
            "\n",
            "\n",
            "  suitable_data[col].fillna(suitable_data[col].median(), inplace=True)\n"
          ]
        },
        {
          "output_type": "stream",
          "name": "stdout",
          "text": [
            "\n",
            "The suitable data with imputed values has been saved to 'suitable_data_filled.csv'.\n"
          ]
        }
      ]
    },
    {
      "cell_type": "markdown",
      "source": [
        "Combine the separate data sets and get the completed final data set without missing values"
      ],
      "metadata": {
        "id": "RKgllRJYLub2"
      }
    },
    {
      "cell_type": "code",
      "source": [
        "import pandas as pd\n",
        "\n",
        "# Step 1: Load the low, moderate, and high missing value datasets\n",
        "low_missing_data = pd.read_csv('filled_data_columns.csv')\n",
        "moderate_missing_data = pd.read_csv('moderate_missing_data_filled.csv')\n",
        "high_missing_data = pd.read_csv('suitable_data_filled.csv')\n",
        "\n",
        "# Step 2: Combine all datasets\n",
        "# Ensure there are no overlapping columns except the target (if necessary)\n",
        "combined_data = pd.concat([low_missing_data, moderate_missing_data, high_missing_data], axis=1)\n",
        "\n",
        "\n",
        "# Step 4: Save the combined dataset to a new CSV file\n",
        "combined_data.to_csv('combined_data_filled.csv', index=False)\n",
        "\n",
        "'''# If using Google Colab, download the file\n",
        "from google.colab import files\n",
        "files.download('combined_data_filled.csv')'''\n",
        "\n",
        "num_attributes = len(combined_data.columns)\n",
        "print(f\"Total number of attributes (columns) in the combined dataset: {num_attributes}\")\n",
        "\n",
        "print(\"\\nThe combined dataset has been saved to 'combined_data_filled.csv'.\")\n"
      ],
      "metadata": {
        "colab": {
          "base_uri": "https://localhost:8080/"
        },
        "id": "1OjEZadnAgau",
        "outputId": "68505a34-80b4-4511-d08a-a8ace86f6fa2"
      },
      "execution_count": null,
      "outputs": [
        {
          "output_type": "stream",
          "name": "stdout",
          "text": [
            "Total number of attributes (columns) in the combined dataset: 82\n",
            "\n",
            "The combined dataset has been saved to 'combined_data_filled.csv'.\n"
          ]
        }
      ]
    },
    {
      "cell_type": "markdown",
      "source": [
        "**Encoding the categorical varibles............**"
      ],
      "metadata": {
        "id": "AkYVvGttMB33"
      }
    },
    {
      "cell_type": "markdown",
      "source": [
        "load the final completed data set"
      ],
      "metadata": {
        "id": "24B05nMUOBvw"
      }
    },
    {
      "cell_type": "code",
      "source": [
        "from google.colab import drive\n",
        "drive.mount('/content/drive')\n",
        "df = pd.read_csv('/content/drive/MyDrive/combined_data_filled.csv')\n",
        "\n",
        "print(df.head(5))\n",
        "\n",
        "# Display the number of attributes (columns)\n",
        "num_attributes = df.shape[1]\n",
        "print(f\"Number of Attributes (Columns): {num_attributes}\")"
      ],
      "metadata": {
        "colab": {
          "base_uri": "https://localhost:8080/"
        },
        "id": "dWKX8CfZOA4i",
        "outputId": "f8464525-7068-4c3f-cfd7-9729eedbb47d"
      },
      "execution_count": null,
      "outputs": [
        {
          "output_type": "stream",
          "name": "stdout",
          "text": [
            "Drive already mounted at /content/drive; to attempt to forcibly remount, call drive.mount(\"/content/drive\", force_remount=True).\n",
            "   SK_ID_CURR  TARGET NAME_CONTRACT_TYPE CODE_GENDER FLAG_OWN_CAR  \\\n",
            "0      100002       1         Cash loans           M            N   \n",
            "1      100003       0         Cash loans           F            N   \n",
            "2      100004       0    Revolving loans           M            Y   \n",
            "3      100006       0         Cash loans           F            N   \n",
            "4      100007       0         Cash loans           M            N   \n",
            "\n",
            "  FLAG_OWN_REALTY  CNT_CHILDREN  AMT_INCOME_TOTAL  AMT_CREDIT  AMT_ANNUITY  \\\n",
            "0               Y             0          202500.0    406597.5      24700.5   \n",
            "1               N             0          270000.0   1293502.5      35698.5   \n",
            "2               Y             0           67500.0    135000.0       6750.0   \n",
            "3               Y             0          135000.0    312682.5      29686.5   \n",
            "4               Y             0          121500.0    513000.0      21865.5   \n",
            "\n",
            "   AMT_GOODS_PRICE NAME_TYPE_SUITE NAME_INCOME_TYPE  \\\n",
            "0         351000.0   Unaccompanied          Working   \n",
            "1        1129500.0          Family    State servant   \n",
            "2         135000.0   Unaccompanied          Working   \n",
            "3         297000.0   Unaccompanied          Working   \n",
            "4         513000.0   Unaccompanied          Working   \n",
            "\n",
            "             NAME_EDUCATION_TYPE    NAME_FAMILY_STATUS  NAME_HOUSING_TYPE  \\\n",
            "0  Secondary / secondary special  Single / not married  House / apartment   \n",
            "1               Higher education               Married  House / apartment   \n",
            "2  Secondary / secondary special  Single / not married  House / apartment   \n",
            "3  Secondary / secondary special        Civil marriage  House / apartment   \n",
            "4  Secondary / secondary special  Single / not married  House / apartment   \n",
            "\n",
            "   REGION_POPULATION_RELATIVE  DAYS_BIRTH  DAYS_EMPLOYED  DAYS_REGISTRATION  \\\n",
            "0                    0.018801       -9461           -637            -3648.0   \n",
            "1                    0.003541      -16765          -1188            -1186.0   \n",
            "2                    0.010032      -19046           -225            -4260.0   \n",
            "3                    0.008019      -19005          -3039            -9833.0   \n",
            "4                    0.028663      -19932          -3038            -4311.0   \n",
            "\n",
            "   DAYS_ID_PUBLISH  FLAG_MOBIL  FLAG_EMP_PHONE  FLAG_WORK_PHONE  \\\n",
            "0            -2120           1               1                0   \n",
            "1             -291           1               1                0   \n",
            "2            -2531           1               1                1   \n",
            "3            -2437           1               1                0   \n",
            "4            -3458           1               1                0   \n",
            "\n",
            "   FLAG_CONT_MOBILE  FLAG_PHONE  FLAG_EMAIL  CNT_FAM_MEMBERS  \\\n",
            "0                 1           1           0              1.0   \n",
            "1                 1           1           0              2.0   \n",
            "2                 1           1           0              1.0   \n",
            "3                 1           0           0              2.0   \n",
            "4                 1           0           0              1.0   \n",
            "\n",
            "   REGION_RATING_CLIENT  REGION_RATING_CLIENT_W_CITY  \\\n",
            "0                     2                            2   \n",
            "1                     1                            1   \n",
            "2                     2                            2   \n",
            "3                     2                            2   \n",
            "4                     2                            2   \n",
            "\n",
            "  WEEKDAY_APPR_PROCESS_START  HOUR_APPR_PROCESS_START  \\\n",
            "0                  WEDNESDAY                       10   \n",
            "1                     MONDAY                       11   \n",
            "2                     MONDAY                        9   \n",
            "3                  WEDNESDAY                       17   \n",
            "4                   THURSDAY                       11   \n",
            "\n",
            "   REG_REGION_NOT_LIVE_REGION  REG_REGION_NOT_WORK_REGION  \\\n",
            "0                           0                           0   \n",
            "1                           0                           0   \n",
            "2                           0                           0   \n",
            "3                           0                           0   \n",
            "4                           0                           0   \n",
            "\n",
            "   LIVE_REGION_NOT_WORK_REGION  REG_CITY_NOT_LIVE_CITY  \\\n",
            "0                            0                       0   \n",
            "1                            0                       0   \n",
            "2                            0                       0   \n",
            "3                            0                       0   \n",
            "4                            0                       0   \n",
            "\n",
            "   REG_CITY_NOT_WORK_CITY  LIVE_CITY_NOT_WORK_CITY       ORGANIZATION_TYPE  \\\n",
            "0                       0                        0  Business Entity Type 3   \n",
            "1                       0                        0                  School   \n",
            "2                       0                        0              Government   \n",
            "3                       0                        0  Business Entity Type 3   \n",
            "4                       1                        1                Religion   \n",
            "\n",
            "   EXT_SOURCE_2  OBS_30_CNT_SOCIAL_CIRCLE  DEF_30_CNT_SOCIAL_CIRCLE  \\\n",
            "0      0.262949                       2.0                       2.0   \n",
            "1      0.622246                       1.0                       0.0   \n",
            "2      0.555912                       0.0                       0.0   \n",
            "3      0.650442                       2.0                       0.0   \n",
            "4      0.322738                       0.0                       0.0   \n",
            "\n",
            "   OBS_60_CNT_SOCIAL_CIRCLE  DEF_60_CNT_SOCIAL_CIRCLE  DAYS_LAST_PHONE_CHANGE  \\\n",
            "0                       2.0                       2.0                 -1134.0   \n",
            "1                       1.0                       0.0                  -828.0   \n",
            "2                       0.0                       0.0                  -815.0   \n",
            "3                       2.0                       0.0                  -617.0   \n",
            "4                       0.0                       0.0                 -1106.0   \n",
            "\n",
            "   FLAG_DOCUMENT_2  FLAG_DOCUMENT_3  FLAG_DOCUMENT_4  FLAG_DOCUMENT_5  \\\n",
            "0                0                1                0                0   \n",
            "1                0                1                0                0   \n",
            "2                0                0                0                0   \n",
            "3                0                1                0                0   \n",
            "4                0                0                0                0   \n",
            "\n",
            "   FLAG_DOCUMENT_6  FLAG_DOCUMENT_7  FLAG_DOCUMENT_8  FLAG_DOCUMENT_9  \\\n",
            "0                0                0                0                0   \n",
            "1                0                0                0                0   \n",
            "2                0                0                0                0   \n",
            "3                0                0                0                0   \n",
            "4                0                0                1                0   \n",
            "\n",
            "   FLAG_DOCUMENT_10  FLAG_DOCUMENT_11  FLAG_DOCUMENT_12  FLAG_DOCUMENT_13  \\\n",
            "0                 0                 0                 0                 0   \n",
            "1                 0                 0                 0                 0   \n",
            "2                 0                 0                 0                 0   \n",
            "3                 0                 0                 0                 0   \n",
            "4                 0                 0                 0                 0   \n",
            "\n",
            "   FLAG_DOCUMENT_14  FLAG_DOCUMENT_15  FLAG_DOCUMENT_16  FLAG_DOCUMENT_17  \\\n",
            "0                 0                 0                 0                 0   \n",
            "1                 0                 0                 0                 0   \n",
            "2                 0                 0                 0                 0   \n",
            "3                 0                 0                 0                 0   \n",
            "4                 0                 0                 0                 0   \n",
            "\n",
            "   FLAG_DOCUMENT_18  FLAG_DOCUMENT_19  FLAG_DOCUMENT_20  FLAG_DOCUMENT_21  \\\n",
            "0                 0                 0                 0                 0   \n",
            "1                 0                 0                 0                 0   \n",
            "2                 0                 0                 0                 0   \n",
            "3                 0                 0                 0                 0   \n",
            "4                 0                 0                 0                 0   \n",
            "\n",
            "  OCCUPATION_TYPE  EXT_SOURCE_3  YEARS_BEGINEXPLUATATION_AVG  FLOORSMAX_AVG  \\\n",
            "0        Laborers      0.139376                       0.9722         0.0833   \n",
            "1      Core staff      0.535276                       0.9851         0.2917   \n",
            "2        Laborers      0.729567                       0.9816         0.1667   \n",
            "3        Laborers      0.535276                       0.9816         0.1667   \n",
            "4      Core staff      0.535276                       0.9816         0.1667   \n",
            "\n",
            "   YEARS_BEGINEXPLUATATION_MODE  FLOORSMAX_MODE  YEARS_BEGINEXPLUATATION_MEDI  \\\n",
            "0                        0.9722          0.0833                        0.9722   \n",
            "1                        0.9851          0.2917                        0.9851   \n",
            "2                        0.9816          0.1667                        0.9816   \n",
            "3                        0.9816          0.1667                        0.9816   \n",
            "4                        0.9816          0.1667                        0.9816   \n",
            "\n",
            "   FLOORSMAX_MEDI  TOTALAREA_MODE EMERGENCYSTATE_MODE  \\\n",
            "0          0.0833          0.0149                  No   \n",
            "1          0.2917          0.0714                  No   \n",
            "2          0.1667          0.0688                  No   \n",
            "3          0.1667          0.0688                  No   \n",
            "4          0.1667          0.0688                  No   \n",
            "\n",
            "   AMT_REQ_CREDIT_BUREAU_HOUR  AMT_REQ_CREDIT_BUREAU_DAY  \\\n",
            "0                         0.0                        0.0   \n",
            "1                         0.0                        0.0   \n",
            "2                         0.0                        0.0   \n",
            "3                         0.0                        0.0   \n",
            "4                         0.0                        0.0   \n",
            "\n",
            "   AMT_REQ_CREDIT_BUREAU_WEEK  AMT_REQ_CREDIT_BUREAU_MON  \\\n",
            "0                         0.0                        0.0   \n",
            "1                         0.0                        0.0   \n",
            "2                         0.0                        0.0   \n",
            "3                         0.0                        0.0   \n",
            "4                         0.0                        0.0   \n",
            "\n",
            "   AMT_REQ_CREDIT_BUREAU_QRT  AMT_REQ_CREDIT_BUREAU_YEAR  EXT_SOURCE_1  \n",
            "0                        0.0                         1.0      0.083037  \n",
            "1                        0.0                         0.0      0.311267  \n",
            "2                        0.0                         0.0      0.505998  \n",
            "3                        0.0                         1.0      0.505998  \n",
            "4                        0.0                         0.0      0.505998  \n",
            "Number of Attributes (Columns): 82\n"
          ]
        }
      ]
    },
    {
      "cell_type": "markdown",
      "source": [
        "identify the categorical varibles"
      ],
      "metadata": {
        "id": "t_qtWfJFMtan"
      }
    },
    {
      "cell_type": "code",
      "source": [
        "# Identify categorical columns in the dataset\n",
        "categorical_columns = df.select_dtypes(include=['object']).columns.tolist()\n",
        "\n",
        "# Display the categorical columns and their count\n",
        "print(f\"Categorical Columns ({len(categorical_columns)}):\")\n",
        "print(categorical_columns)\n"
      ],
      "metadata": {
        "colab": {
          "base_uri": "https://localhost:8080/"
        },
        "id": "D0uQjPwJMyuB",
        "outputId": "0ffba62f-43f1-4a42-af8b-dc4151f421a5"
      },
      "execution_count": null,
      "outputs": [
        {
          "output_type": "stream",
          "name": "stdout",
          "text": [
            "Categorical Columns (13):\n",
            "['NAME_CONTRACT_TYPE', 'CODE_GENDER', 'FLAG_OWN_CAR', 'FLAG_OWN_REALTY', 'NAME_TYPE_SUITE', 'NAME_INCOME_TYPE', 'NAME_EDUCATION_TYPE', 'NAME_FAMILY_STATUS', 'NAME_HOUSING_TYPE', 'WEEKDAY_APPR_PROCESS_START', 'ORGANIZATION_TYPE', 'OCCUPATION_TYPE', 'EMERGENCYSTATE_MODE']\n"
          ]
        }
      ]
    },
    {
      "cell_type": "markdown",
      "source": [
        "Divide the categorical data set to suitable encoding method"
      ],
      "metadata": {
        "id": "vadDycAzbEbm"
      }
    },
    {
      "cell_type": "code",
      "source": [
        "#Separate columns for One-Hot Encoding and Label Encoding\n",
        "one_hot_columns = [col for col in categorical_columns if df[col].nunique() <= 10]\n",
        "label_columns = [col for col in categorical_columns if df[col].nunique() > 10]\n",
        "\n",
        "# Display results\n",
        "print(f\"Columns for One-Hot Encoding ({len(one_hot_columns)}):\")\n",
        "print(one_hot_columns)\n",
        "\n",
        "print(f\"\\nColumns for Label Encoding ({len(label_columns)}):\")\n",
        "print(label_columns)\n"
      ],
      "metadata": {
        "colab": {
          "base_uri": "https://localhost:8080/"
        },
        "id": "XjfQLX_oHO03",
        "outputId": "b758f840-2e99-4692-a44b-756e0aa3ed34"
      },
      "execution_count": null,
      "outputs": [
        {
          "output_type": "stream",
          "name": "stdout",
          "text": [
            "Columns for One-Hot Encoding (11):\n",
            "['NAME_CONTRACT_TYPE', 'CODE_GENDER', 'FLAG_OWN_CAR', 'FLAG_OWN_REALTY', 'NAME_TYPE_SUITE', 'NAME_INCOME_TYPE', 'NAME_EDUCATION_TYPE', 'NAME_FAMILY_STATUS', 'NAME_HOUSING_TYPE', 'WEEKDAY_APPR_PROCESS_START', 'EMERGENCYSTATE_MODE']\n",
            "\n",
            "Columns for Label Encoding (2):\n",
            "['ORGANIZATION_TYPE', 'OCCUPATION_TYPE']\n"
          ]
        }
      ]
    },
    {
      "cell_type": "markdown",
      "source": [
        "do the encoding and download the final data set"
      ],
      "metadata": {
        "id": "To_5eiDGbT5I"
      }
    },
    {
      "cell_type": "code",
      "source": [
        "from sklearn.preprocessing import LabelEncoder\n",
        "\n",
        "\n",
        "#Before encoding, get the number of columns\n",
        "original_num_columns = df.shape[1]\n",
        "print(f\"Original number of columns: {original_num_columns}\")\n",
        "\n",
        "#.......................................................\n",
        "\n",
        "# Apply One-Hot Encoding\n",
        "df = pd.get_dummies(df, columns=one_hot_columns, drop_first=True)\n",
        "\n",
        "# Apply Label Encoding\n",
        "le = LabelEncoder()\n",
        "for col in label_columns:\n",
        "    df[col] = le.fit_transform(df[col])\n",
        "\n",
        "#.......................................................\n",
        "\n",
        "# After encoding, get the number of columns\n",
        "new_num_columns = df.shape[1]\n",
        "print(f\"New number of columns after encoding: {new_num_columns}\")\n",
        "\n",
        "\n",
        "# Calculate the number of new columns created\n",
        "num_new_columns = new_num_columns - original_num_columns\n",
        "print(f\"\\nNumber of new columns created by encoding: {num_new_columns}\")\n",
        "\n",
        "# Verify encoding\n",
        "print(\"\\nData after encoding:\")\n",
        "print(df.head(5))\n",
        "\n",
        "\n",
        "# Save the encoded dataset to a new CSV file\n",
        "df.to_csv('final_encoded_data.csv', index=False)\n",
        "'''\n",
        "# If using Google Colab, download the file\n",
        "from google.colab import files\n",
        "files.download('final_encoded_data.csv')'''\n"
      ],
      "metadata": {
        "colab": {
          "base_uri": "https://localhost:8080/",
          "height": 1000
        },
        "id": "fShvMhXGHq2n",
        "outputId": "56aef171-4bef-4aca-b726-04db8849207b"
      },
      "execution_count": null,
      "outputs": [
        {
          "output_type": "stream",
          "name": "stdout",
          "text": [
            "Original number of columns: 82\n",
            "New number of columns after encoding: 110\n",
            "\n",
            "Number of new columns created by encoding: 28\n",
            "\n",
            "Data after encoding:\n",
            "   SK_ID_CURR  TARGET  CNT_CHILDREN  AMT_INCOME_TOTAL  AMT_CREDIT  \\\n",
            "0      100002       1             0          202500.0    406597.5   \n",
            "1      100003       0             0          270000.0   1293502.5   \n",
            "2      100004       0             0           67500.0    135000.0   \n",
            "3      100006       0             0          135000.0    312682.5   \n",
            "4      100007       0             0          121500.0    513000.0   \n",
            "\n",
            "   AMT_ANNUITY  AMT_GOODS_PRICE  REGION_POPULATION_RELATIVE  DAYS_BIRTH  \\\n",
            "0      24700.5         351000.0                    0.018801       -9461   \n",
            "1      35698.5        1129500.0                    0.003541      -16765   \n",
            "2       6750.0         135000.0                    0.010032      -19046   \n",
            "3      29686.5         297000.0                    0.008019      -19005   \n",
            "4      21865.5         513000.0                    0.028663      -19932   \n",
            "\n",
            "   DAYS_EMPLOYED  DAYS_REGISTRATION  DAYS_ID_PUBLISH  FLAG_MOBIL  \\\n",
            "0           -637            -3648.0            -2120           1   \n",
            "1          -1188            -1186.0             -291           1   \n",
            "2           -225            -4260.0            -2531           1   \n",
            "3          -3039            -9833.0            -2437           1   \n",
            "4          -3038            -4311.0            -3458           1   \n",
            "\n",
            "   FLAG_EMP_PHONE  FLAG_WORK_PHONE  FLAG_CONT_MOBILE  FLAG_PHONE  FLAG_EMAIL  \\\n",
            "0               1                0                 1           1           0   \n",
            "1               1                0                 1           1           0   \n",
            "2               1                1                 1           1           0   \n",
            "3               1                0                 1           0           0   \n",
            "4               1                0                 1           0           0   \n",
            "\n",
            "   CNT_FAM_MEMBERS  REGION_RATING_CLIENT  REGION_RATING_CLIENT_W_CITY  \\\n",
            "0              1.0                     2                            2   \n",
            "1              2.0                     1                            1   \n",
            "2              1.0                     2                            2   \n",
            "3              2.0                     2                            2   \n",
            "4              1.0                     2                            2   \n",
            "\n",
            "   HOUR_APPR_PROCESS_START  REG_REGION_NOT_LIVE_REGION  \\\n",
            "0                       10                           0   \n",
            "1                       11                           0   \n",
            "2                        9                           0   \n",
            "3                       17                           0   \n",
            "4                       11                           0   \n",
            "\n",
            "   REG_REGION_NOT_WORK_REGION  LIVE_REGION_NOT_WORK_REGION  \\\n",
            "0                           0                            0   \n",
            "1                           0                            0   \n",
            "2                           0                            0   \n",
            "3                           0                            0   \n",
            "4                           0                            0   \n",
            "\n",
            "   REG_CITY_NOT_LIVE_CITY  REG_CITY_NOT_WORK_CITY  LIVE_CITY_NOT_WORK_CITY  \\\n",
            "0                       0                       0                        0   \n",
            "1                       0                       0                        0   \n",
            "2                       0                       0                        0   \n",
            "3                       0                       0                        0   \n",
            "4                       0                       1                        1   \n",
            "\n",
            "   ORGANIZATION_TYPE  EXT_SOURCE_2  OBS_30_CNT_SOCIAL_CIRCLE  \\\n",
            "0                  5      0.262949                       2.0   \n",
            "1                 39      0.622246                       1.0   \n",
            "2                 11      0.555912                       0.0   \n",
            "3                  5      0.650442                       2.0   \n",
            "4                 37      0.322738                       0.0   \n",
            "\n",
            "   DEF_30_CNT_SOCIAL_CIRCLE  OBS_60_CNT_SOCIAL_CIRCLE  \\\n",
            "0                       2.0                       2.0   \n",
            "1                       0.0                       1.0   \n",
            "2                       0.0                       0.0   \n",
            "3                       0.0                       2.0   \n",
            "4                       0.0                       0.0   \n",
            "\n",
            "   DEF_60_CNT_SOCIAL_CIRCLE  DAYS_LAST_PHONE_CHANGE  FLAG_DOCUMENT_2  \\\n",
            "0                       2.0                 -1134.0                0   \n",
            "1                       0.0                  -828.0                0   \n",
            "2                       0.0                  -815.0                0   \n",
            "3                       0.0                  -617.0                0   \n",
            "4                       0.0                 -1106.0                0   \n",
            "\n",
            "   FLAG_DOCUMENT_3  FLAG_DOCUMENT_4  FLAG_DOCUMENT_5  FLAG_DOCUMENT_6  \\\n",
            "0                1                0                0                0   \n",
            "1                1                0                0                0   \n",
            "2                0                0                0                0   \n",
            "3                1                0                0                0   \n",
            "4                0                0                0                0   \n",
            "\n",
            "   FLAG_DOCUMENT_7  FLAG_DOCUMENT_8  FLAG_DOCUMENT_9  FLAG_DOCUMENT_10  \\\n",
            "0                0                0                0                 0   \n",
            "1                0                0                0                 0   \n",
            "2                0                0                0                 0   \n",
            "3                0                0                0                 0   \n",
            "4                0                1                0                 0   \n",
            "\n",
            "   FLAG_DOCUMENT_11  FLAG_DOCUMENT_12  FLAG_DOCUMENT_13  FLAG_DOCUMENT_14  \\\n",
            "0                 0                 0                 0                 0   \n",
            "1                 0                 0                 0                 0   \n",
            "2                 0                 0                 0                 0   \n",
            "3                 0                 0                 0                 0   \n",
            "4                 0                 0                 0                 0   \n",
            "\n",
            "   FLAG_DOCUMENT_15  FLAG_DOCUMENT_16  FLAG_DOCUMENT_17  FLAG_DOCUMENT_18  \\\n",
            "0                 0                 0                 0                 0   \n",
            "1                 0                 0                 0                 0   \n",
            "2                 0                 0                 0                 0   \n",
            "3                 0                 0                 0                 0   \n",
            "4                 0                 0                 0                 0   \n",
            "\n",
            "   FLAG_DOCUMENT_19  FLAG_DOCUMENT_20  FLAG_DOCUMENT_21  OCCUPATION_TYPE  \\\n",
            "0                 0                 0                 0                8   \n",
            "1                 0                 0                 0                3   \n",
            "2                 0                 0                 0                8   \n",
            "3                 0                 0                 0                8   \n",
            "4                 0                 0                 0                3   \n",
            "\n",
            "   EXT_SOURCE_3  YEARS_BEGINEXPLUATATION_AVG  FLOORSMAX_AVG  \\\n",
            "0      0.139376                       0.9722         0.0833   \n",
            "1      0.535276                       0.9851         0.2917   \n",
            "2      0.729567                       0.9816         0.1667   \n",
            "3      0.535276                       0.9816         0.1667   \n",
            "4      0.535276                       0.9816         0.1667   \n",
            "\n",
            "   YEARS_BEGINEXPLUATATION_MODE  FLOORSMAX_MODE  YEARS_BEGINEXPLUATATION_MEDI  \\\n",
            "0                        0.9722          0.0833                        0.9722   \n",
            "1                        0.9851          0.2917                        0.9851   \n",
            "2                        0.9816          0.1667                        0.9816   \n",
            "3                        0.9816          0.1667                        0.9816   \n",
            "4                        0.9816          0.1667                        0.9816   \n",
            "\n",
            "   FLOORSMAX_MEDI  TOTALAREA_MODE  AMT_REQ_CREDIT_BUREAU_HOUR  \\\n",
            "0          0.0833          0.0149                         0.0   \n",
            "1          0.2917          0.0714                         0.0   \n",
            "2          0.1667          0.0688                         0.0   \n",
            "3          0.1667          0.0688                         0.0   \n",
            "4          0.1667          0.0688                         0.0   \n",
            "\n",
            "   AMT_REQ_CREDIT_BUREAU_DAY  AMT_REQ_CREDIT_BUREAU_WEEK  \\\n",
            "0                        0.0                         0.0   \n",
            "1                        0.0                         0.0   \n",
            "2                        0.0                         0.0   \n",
            "3                        0.0                         0.0   \n",
            "4                        0.0                         0.0   \n",
            "\n",
            "   AMT_REQ_CREDIT_BUREAU_MON  AMT_REQ_CREDIT_BUREAU_QRT  \\\n",
            "0                        0.0                        0.0   \n",
            "1                        0.0                        0.0   \n",
            "2                        0.0                        0.0   \n",
            "3                        0.0                        0.0   \n",
            "4                        0.0                        0.0   \n",
            "\n",
            "   AMT_REQ_CREDIT_BUREAU_YEAR  EXT_SOURCE_1  \\\n",
            "0                         1.0      0.083037   \n",
            "1                         0.0      0.311267   \n",
            "2                         0.0      0.505998   \n",
            "3                         1.0      0.505998   \n",
            "4                         0.0      0.505998   \n",
            "\n",
            "   NAME_CONTRACT_TYPE_Revolving loans  CODE_GENDER_M  CODE_GENDER_XNA  \\\n",
            "0                               False           True            False   \n",
            "1                               False          False            False   \n",
            "2                                True           True            False   \n",
            "3                               False          False            False   \n",
            "4                               False           True            False   \n",
            "\n",
            "   FLAG_OWN_CAR_Y  FLAG_OWN_REALTY_Y  NAME_TYPE_SUITE_Family  \\\n",
            "0           False               True                   False   \n",
            "1           False              False                    True   \n",
            "2            True               True                   False   \n",
            "3           False               True                   False   \n",
            "4           False               True                   False   \n",
            "\n",
            "   NAME_TYPE_SUITE_Group of people  NAME_TYPE_SUITE_Other_A  \\\n",
            "0                            False                    False   \n",
            "1                            False                    False   \n",
            "2                            False                    False   \n",
            "3                            False                    False   \n",
            "4                            False                    False   \n",
            "\n",
            "   NAME_TYPE_SUITE_Other_B  NAME_TYPE_SUITE_Spouse, partner  \\\n",
            "0                    False                            False   \n",
            "1                    False                            False   \n",
            "2                    False                            False   \n",
            "3                    False                            False   \n",
            "4                    False                            False   \n",
            "\n",
            "   NAME_TYPE_SUITE_Unaccompanied  NAME_INCOME_TYPE_Commercial associate  \\\n",
            "0                           True                                  False   \n",
            "1                          False                                  False   \n",
            "2                           True                                  False   \n",
            "3                           True                                  False   \n",
            "4                           True                                  False   \n",
            "\n",
            "   NAME_INCOME_TYPE_Maternity leave  NAME_INCOME_TYPE_Pensioner  \\\n",
            "0                             False                       False   \n",
            "1                             False                       False   \n",
            "2                             False                       False   \n",
            "3                             False                       False   \n",
            "4                             False                       False   \n",
            "\n",
            "   NAME_INCOME_TYPE_State servant  NAME_INCOME_TYPE_Student  \\\n",
            "0                           False                     False   \n",
            "1                            True                     False   \n",
            "2                           False                     False   \n",
            "3                           False                     False   \n",
            "4                           False                     False   \n",
            "\n",
            "   NAME_INCOME_TYPE_Unemployed  NAME_INCOME_TYPE_Working  \\\n",
            "0                        False                      True   \n",
            "1                        False                     False   \n",
            "2                        False                      True   \n",
            "3                        False                      True   \n",
            "4                        False                      True   \n",
            "\n",
            "   NAME_EDUCATION_TYPE_Higher education  \\\n",
            "0                                 False   \n",
            "1                                  True   \n",
            "2                                 False   \n",
            "3                                 False   \n",
            "4                                 False   \n",
            "\n",
            "   NAME_EDUCATION_TYPE_Incomplete higher  NAME_EDUCATION_TYPE_Lower secondary  \\\n",
            "0                                  False                                False   \n",
            "1                                  False                                False   \n",
            "2                                  False                                False   \n",
            "3                                  False                                False   \n",
            "4                                  False                                False   \n",
            "\n",
            "   NAME_EDUCATION_TYPE_Secondary / secondary special  \\\n",
            "0                                               True   \n",
            "1                                              False   \n",
            "2                                               True   \n",
            "3                                               True   \n",
            "4                                               True   \n",
            "\n",
            "   NAME_FAMILY_STATUS_Married  NAME_FAMILY_STATUS_Separated  \\\n",
            "0                       False                         False   \n",
            "1                        True                         False   \n",
            "2                       False                         False   \n",
            "3                       False                         False   \n",
            "4                       False                         False   \n",
            "\n",
            "   NAME_FAMILY_STATUS_Single / not married  NAME_FAMILY_STATUS_Unknown  \\\n",
            "0                                     True                       False   \n",
            "1                                    False                       False   \n",
            "2                                     True                       False   \n",
            "3                                    False                       False   \n",
            "4                                     True                       False   \n",
            "\n",
            "   NAME_FAMILY_STATUS_Widow  NAME_HOUSING_TYPE_House / apartment  \\\n",
            "0                     False                                 True   \n",
            "1                     False                                 True   \n",
            "2                     False                                 True   \n",
            "3                     False                                 True   \n",
            "4                     False                                 True   \n",
            "\n",
            "   NAME_HOUSING_TYPE_Municipal apartment  NAME_HOUSING_TYPE_Office apartment  \\\n",
            "0                                  False                               False   \n",
            "1                                  False                               False   \n",
            "2                                  False                               False   \n",
            "3                                  False                               False   \n",
            "4                                  False                               False   \n",
            "\n",
            "   NAME_HOUSING_TYPE_Rented apartment  NAME_HOUSING_TYPE_With parents  \\\n",
            "0                               False                           False   \n",
            "1                               False                           False   \n",
            "2                               False                           False   \n",
            "3                               False                           False   \n",
            "4                               False                           False   \n",
            "\n",
            "   WEEKDAY_APPR_PROCESS_START_MONDAY  WEEKDAY_APPR_PROCESS_START_SATURDAY  \\\n",
            "0                              False                                False   \n",
            "1                               True                                False   \n",
            "2                               True                                False   \n",
            "3                              False                                False   \n",
            "4                              False                                False   \n",
            "\n",
            "   WEEKDAY_APPR_PROCESS_START_SUNDAY  WEEKDAY_APPR_PROCESS_START_THURSDAY  \\\n",
            "0                              False                                False   \n",
            "1                              False                                False   \n",
            "2                              False                                False   \n",
            "3                              False                                False   \n",
            "4                              False                                 True   \n",
            "\n",
            "   WEEKDAY_APPR_PROCESS_START_TUESDAY  WEEKDAY_APPR_PROCESS_START_WEDNESDAY  \\\n",
            "0                               False                                  True   \n",
            "1                               False                                 False   \n",
            "2                               False                                 False   \n",
            "3                               False                                  True   \n",
            "4                               False                                 False   \n",
            "\n",
            "   EMERGENCYSTATE_MODE_Yes  \n",
            "0                    False  \n",
            "1                    False  \n",
            "2                    False  \n",
            "3                    False  \n",
            "4                    False  \n"
          ]
        },
        {
          "output_type": "execute_result",
          "data": {
            "text/plain": [
              "\"\\n# If using Google Colab, download the file\\nfrom google.colab import files\\nfiles.download('final_encoded_data.csv')\""
            ],
            "application/vnd.google.colaboratory.intrinsic+json": {
              "type": "string"
            }
          },
          "metadata": {},
          "execution_count": 24
        }
      ]
    },
    {
      "cell_type": "markdown",
      "source": [
        "**Scale features...**"
      ],
      "metadata": {
        "id": "RqqAkEe9E7yG"
      }
    },
    {
      "cell_type": "markdown",
      "source": [
        "load the data set"
      ],
      "metadata": {
        "id": "eGZZsLDn2bDH"
      }
    },
    {
      "cell_type": "code",
      "source": [
        "import pandas as pd\n",
        "from google.colab import drive\n",
        "drive.mount('/content/drive')\n",
        "df = pd.read_csv('/content/drive/MyDrive/final_encoded_data(final).csv')\n",
        "\n",
        "print(df.head(5))"
      ],
      "metadata": {
        "colab": {
          "base_uri": "https://localhost:8080/"
        },
        "id": "io0vuXdPFFZx",
        "outputId": "86eb1b3e-23de-4dec-d9b4-96d31ce0ce7d"
      },
      "execution_count": null,
      "outputs": [
        {
          "output_type": "stream",
          "name": "stdout",
          "text": [
            "Drive already mounted at /content/drive; to attempt to forcibly remount, call drive.mount(\"/content/drive\", force_remount=True).\n",
            "   SK_ID_CURR  TARGET  CNT_CHILDREN  AMT_INCOME_TOTAL  AMT_CREDIT  \\\n",
            "0      100002       1             0          202500.0    406597.5   \n",
            "1      100003       0             0          270000.0   1293502.5   \n",
            "2      100004       0             0           67500.0    135000.0   \n",
            "3      100006       0             0          135000.0    312682.5   \n",
            "4      100007       0             0          121500.0    513000.0   \n",
            "\n",
            "   AMT_ANNUITY  AMT_GOODS_PRICE  REGION_POPULATION_RELATIVE  DAYS_BIRTH  \\\n",
            "0      24700.5         351000.0                    0.018801       -9461   \n",
            "1      35698.5        1129500.0                    0.003541      -16765   \n",
            "2       6750.0         135000.0                    0.010032      -19046   \n",
            "3      29686.5         297000.0                    0.008019      -19005   \n",
            "4      21865.5         513000.0                    0.028663      -19932   \n",
            "\n",
            "   DAYS_EMPLOYED  ...  NAME_HOUSING_TYPE_Office apartment  \\\n",
            "0           -637  ...                               False   \n",
            "1          -1188  ...                               False   \n",
            "2           -225  ...                               False   \n",
            "3          -3039  ...                               False   \n",
            "4          -3038  ...                               False   \n",
            "\n",
            "   NAME_HOUSING_TYPE_Rented apartment  NAME_HOUSING_TYPE_With parents  \\\n",
            "0                               False                           False   \n",
            "1                               False                           False   \n",
            "2                               False                           False   \n",
            "3                               False                           False   \n",
            "4                               False                           False   \n",
            "\n",
            "   WEEKDAY_APPR_PROCESS_START_MONDAY  WEEKDAY_APPR_PROCESS_START_SATURDAY  \\\n",
            "0                              False                                False   \n",
            "1                               True                                False   \n",
            "2                               True                                False   \n",
            "3                              False                                False   \n",
            "4                              False                                False   \n",
            "\n",
            "   WEEKDAY_APPR_PROCESS_START_SUNDAY  WEEKDAY_APPR_PROCESS_START_THURSDAY  \\\n",
            "0                              False                                False   \n",
            "1                              False                                False   \n",
            "2                              False                                False   \n",
            "3                              False                                False   \n",
            "4                              False                                 True   \n",
            "\n",
            "   WEEKDAY_APPR_PROCESS_START_TUESDAY  WEEKDAY_APPR_PROCESS_START_WEDNESDAY  \\\n",
            "0                               False                                  True   \n",
            "1                               False                                 False   \n",
            "2                               False                                 False   \n",
            "3                               False                                  True   \n",
            "4                               False                                 False   \n",
            "\n",
            "   EMERGENCYSTATE_MODE_Yes  \n",
            "0                    False  \n",
            "1                    False  \n",
            "2                    False  \n",
            "3                    False  \n",
            "4                    False  \n",
            "\n",
            "[5 rows x 110 columns]\n"
          ]
        }
      ]
    },
    {
      "cell_type": "code",
      "source": [
        "# Get the number of columns in the dataset\n",
        "num_columns = df.shape[1]\n",
        "print(f\"The dataset has {num_columns} columns.\")\n"
      ],
      "metadata": {
        "colab": {
          "base_uri": "https://localhost:8080/"
        },
        "id": "OuQFKjna1xjH",
        "outputId": "f2a4a86f-6ebe-44ef-e987-bbf8c974e0b9"
      },
      "execution_count": null,
      "outputs": [
        {
          "output_type": "stream",
          "name": "stdout",
          "text": [
            "The dataset has 110 columns.\n"
          ]
        }
      ]
    },
    {
      "cell_type": "code",
      "source": [
        "# Check the data type of the target variable\n",
        "print(df['TARGET'].dtype)\n"
      ],
      "metadata": {
        "colab": {
          "base_uri": "https://localhost:8080/"
        },
        "id": "qtZK_SNC3UWE",
        "outputId": "d104e2af-88bb-47a1-c306-c10d907c9b73"
      },
      "execution_count": null,
      "outputs": [
        {
          "output_type": "stream",
          "name": "stdout",
          "text": [
            "int64\n"
          ]
        }
      ]
    },
    {
      "cell_type": "code",
      "source": [
        "# Check all column data types\n",
        "print(df.dtypes)\n",
        "\n",
        "# Confirm total number of columns\n",
        "print(\"Total columns:\", len(df.columns))\n"
      ],
      "metadata": {
        "colab": {
          "base_uri": "https://localhost:8080/"
        },
        "id": "uCHOR9i83i_M",
        "outputId": "0ab4fc99-0b81-4d7a-bec9-f24ae060b486"
      },
      "execution_count": null,
      "outputs": [
        {
          "output_type": "stream",
          "name": "stdout",
          "text": [
            "SK_ID_CURR                                int64\n",
            "TARGET                                    int64\n",
            "CNT_CHILDREN                              int64\n",
            "AMT_INCOME_TOTAL                        float64\n",
            "AMT_CREDIT                              float64\n",
            "                                         ...   \n",
            "WEEKDAY_APPR_PROCESS_START_SUNDAY          bool\n",
            "WEEKDAY_APPR_PROCESS_START_THURSDAY        bool\n",
            "WEEKDAY_APPR_PROCESS_START_TUESDAY         bool\n",
            "WEEKDAY_APPR_PROCESS_START_WEDNESDAY       bool\n",
            "EMERGENCYSTATE_MODE_Yes                    bool\n",
            "Length: 110, dtype: object\n",
            "Total columns: 110\n"
          ]
        }
      ]
    },
    {
      "cell_type": "markdown",
      "source": [
        "Drop the target before scaling"
      ],
      "metadata": {
        "id": "FV2JUJweFbYg"
      }
    },
    {
      "cell_type": "code",
      "source": [
        "# Define the target variable\n",
        "target = 'TARGET'\n",
        "\n",
        "# Separate features (X) and target (y)\n",
        "X = df.drop(columns=[target])\n",
        "y = df[target]\n"
      ],
      "metadata": {
        "id": "-VpazbY84p4m"
      },
      "execution_count": null,
      "outputs": []
    },
    {
      "cell_type": "code",
      "source": [
        "# Check if the target variable is in the numerical columns\n",
        "print('Target variable in numerical columns:', 'target_variable_name' in numerical_columns)\n"
      ],
      "metadata": {
        "colab": {
          "base_uri": "https://localhost:8080/"
        },
        "id": "FAP3ZJTR3toJ",
        "outputId": "dce4380b-4013-458e-832d-d3b35abbd02f"
      },
      "execution_count": null,
      "outputs": [
        {
          "output_type": "stream",
          "name": "stdout",
          "text": [
            "Target variable in numerical columns: False\n"
          ]
        }
      ]
    },
    {
      "cell_type": "markdown",
      "source": [
        "number of columns after removing target varible"
      ],
      "metadata": {
        "id": "lqrWL1mKFicg"
      }
    },
    {
      "cell_type": "code",
      "source": [
        "# Get the number of columns in features (X)\n",
        "num_features = X.shape[1]\n",
        "\n",
        "print(f\"Number of columns (features) after removing target variable: {num_features}\")"
      ],
      "metadata": {
        "colab": {
          "base_uri": "https://localhost:8080/"
        },
        "id": "PM8TDlol5Les",
        "outputId": "0a279ea9-ec25-44a6-cceb-aab4d8e6b3d3"
      },
      "execution_count": null,
      "outputs": [
        {
          "output_type": "stream",
          "name": "stdout",
          "text": [
            "Number of columns (features) after removing target variable: 109\n"
          ]
        }
      ]
    },
    {
      "cell_type": "markdown",
      "source": [
        "Drop the boolean columns"
      ],
      "metadata": {
        "id": "tZfDLea32gYZ"
      }
    },
    {
      "cell_type": "code",
      "source": [
        "# Separate boolean columns\n",
        "boolean_columns = df.select_dtypes(include=['bool']).columns\n",
        "\n",
        "# Separate features (X) and target (y)\n",
        "X = df.drop(columns=[target])\n",
        "\n",
        "# Exclude boolean columns from scaling\n",
        "X_without_boolean = X.drop(columns=boolean_columns)\n"
      ],
      "metadata": {
        "id": "tBctQvjn7awk"
      },
      "execution_count": null,
      "outputs": []
    },
    {
      "cell_type": "markdown",
      "source": [
        "number of columns after removing boolean values."
      ],
      "metadata": {
        "id": "UjPV9p5hFxAL"
      }
    },
    {
      "cell_type": "code",
      "source": [
        "# Get the number of columns after dropping boolean columns\n",
        "num_columns_after_dropping_boolean = X_without_boolean.shape[1]\n",
        "\n",
        "print(f\"Number of columns after dropping boolean columns: {num_columns_after_dropping_boolean}\")\n"
      ],
      "metadata": {
        "colab": {
          "base_uri": "https://localhost:8080/"
        },
        "id": "mOoupNBa7XwB",
        "outputId": "4109dab0-2e21-4d04-ad38-cee0159aa6f4"
      },
      "execution_count": null,
      "outputs": [
        {
          "output_type": "stream",
          "name": "stdout",
          "text": [
            "Number of columns after dropping boolean columns: 70\n"
          ]
        }
      ]
    },
    {
      "cell_type": "markdown",
      "source": [
        "feature scalling"
      ],
      "metadata": {
        "id": "ZeH3jYxJF7OP"
      }
    },
    {
      "cell_type": "code",
      "source": [
        "from sklearn.preprocessing import StandardScaler\n",
        "\n",
        "scaler = StandardScaler()\n",
        "X_scaled = scaler.fit_transform(X_without_boolean)\n",
        "\n",
        "# Optionally, convert scaled features back to DataFrame\n",
        "X_scaled_df = pd.DataFrame(X_scaled, columns=X_without_boolean.columns)\n"
      ],
      "metadata": {
        "id": "rQWHqTs77mYZ"
      },
      "execution_count": null,
      "outputs": []
    },
    {
      "cell_type": "code",
      "source": [
        "# Get the number of columns in the scaled dataset\n",
        "num_columns_scaled = X_scaled_df.shape[1]\n",
        "\n",
        "print(f\"Number of columns after scaling: {num_columns_scaled}\")\n"
      ],
      "metadata": {
        "colab": {
          "base_uri": "https://localhost:8080/"
        },
        "id": "kgM1QG_n8Mes",
        "outputId": "ceece003-2ed1-4902-c78d-e5bedd32533e"
      },
      "execution_count": null,
      "outputs": [
        {
          "output_type": "stream",
          "name": "stdout",
          "text": [
            "Number of columns after scaling: 70\n"
          ]
        }
      ]
    },
    {
      "cell_type": "markdown",
      "source": [
        "re add the boolean columns"
      ],
      "metadata": {
        "id": "vwo229OyGAoc"
      }
    },
    {
      "cell_type": "code",
      "source": [
        "# Concatenate scaled features with boolean columns\n",
        "X_final = pd.concat([X_scaled_df, X[boolean_columns].reset_index(drop=True)], axis=1)\n"
      ],
      "metadata": {
        "id": "a6CPLUGW8Rp7"
      },
      "execution_count": null,
      "outputs": []
    },
    {
      "cell_type": "code",
      "source": [
        "# Get the number of columns in the final dataset\n",
        "num_columns_final = X_final.shape[1]\n",
        "\n",
        "print(f\"Number of columns in the final dataset: {num_columns_final}\")\n"
      ],
      "metadata": {
        "colab": {
          "base_uri": "https://localhost:8080/"
        },
        "id": "7hGgk3Kx8dBg",
        "outputId": "169288e3-12f9-4f20-da03-6d93db6bd323"
      },
      "execution_count": null,
      "outputs": [
        {
          "output_type": "stream",
          "name": "stdout",
          "text": [
            "Number of columns in the final dataset: 109\n"
          ]
        }
      ]
    },
    {
      "cell_type": "markdown",
      "source": [
        "re add the target varible"
      ],
      "metadata": {
        "id": "JKSu6p2rGKo8"
      }
    },
    {
      "cell_type": "code",
      "source": [
        "# Add the target variable back\n",
        "X_final_with_target = pd.concat([X_final, y.reset_index(drop=True)], axis=1)\n",
        "\n",
        "# Get the number of columns in the final dataset with the target\n",
        "num_columns_final_with_target = X_final_with_target.shape[1]\n",
        "\n",
        "print(f\"Number of columns in the final dataset with the target variable: {num_columns_final_with_target}\")"
      ],
      "metadata": {
        "colab": {
          "base_uri": "https://localhost:8080/"
        },
        "id": "sc-g7iKj81KJ",
        "outputId": "22a278cc-a8f0-4e45-eae7-380509174770"
      },
      "execution_count": null,
      "outputs": [
        {
          "output_type": "stream",
          "name": "stdout",
          "text": [
            "Number of columns in the final dataset with the target variable: 110\n"
          ]
        }
      ]
    },
    {
      "cell_type": "markdown",
      "source": [
        "save the data set and download the data set"
      ],
      "metadata": {
        "id": "nvseSd0h23O_"
      }
    },
    {
      "cell_type": "code",
      "source": [
        "'''# Save the final dataset to a CSV file\n",
        "X_final_with_target.to_csv('/content/final_dataset_with_target.csv', index=False)\n",
        "\n",
        "# Download the file\n",
        "from google.colab import files\n",
        "files.download('/content/final_dataset_with_target.csv') '''\n"
      ],
      "metadata": {
        "colab": {
          "base_uri": "https://localhost:8080/",
          "height": 17
        },
        "id": "CdthrGhA1DUC",
        "outputId": "2b095028-dc5a-40fc-e1ac-e9a9420fba3a"
      },
      "execution_count": null,
      "outputs": [
        {
          "output_type": "display_data",
          "data": {
            "text/plain": [
              "<IPython.core.display.Javascript object>"
            ],
            "application/javascript": [
              "\n",
              "    async function download(id, filename, size) {\n",
              "      if (!google.colab.kernel.accessAllowed) {\n",
              "        return;\n",
              "      }\n",
              "      const div = document.createElement('div');\n",
              "      const label = document.createElement('label');\n",
              "      label.textContent = `Downloading \"${filename}\": `;\n",
              "      div.appendChild(label);\n",
              "      const progress = document.createElement('progress');\n",
              "      progress.max = size;\n",
              "      div.appendChild(progress);\n",
              "      document.body.appendChild(div);\n",
              "\n",
              "      const buffers = [];\n",
              "      let downloaded = 0;\n",
              "\n",
              "      const channel = await google.colab.kernel.comms.open(id);\n",
              "      // Send a message to notify the kernel that we're ready.\n",
              "      channel.send({})\n",
              "\n",
              "      for await (const message of channel.messages) {\n",
              "        // Send a message to notify the kernel that we're ready.\n",
              "        channel.send({})\n",
              "        if (message.buffers) {\n",
              "          for (const buffer of message.buffers) {\n",
              "            buffers.push(buffer);\n",
              "            downloaded += buffer.byteLength;\n",
              "            progress.value = downloaded;\n",
              "          }\n",
              "        }\n",
              "      }\n",
              "      const blob = new Blob(buffers, {type: 'application/binary'});\n",
              "      const a = document.createElement('a');\n",
              "      a.href = window.URL.createObjectURL(blob);\n",
              "      a.download = filename;\n",
              "      div.appendChild(a);\n",
              "      a.click();\n",
              "      div.remove();\n",
              "    }\n",
              "  "
            ]
          },
          "metadata": {}
        },
        {
          "output_type": "display_data",
          "data": {
            "text/plain": [
              "<IPython.core.display.Javascript object>"
            ],
            "application/javascript": [
              "download(\"download_49b921aa-694a-4a1b-b0b9-e78bae060387\", \"final_dataset_with_target.csv\", 509736210)"
            ]
          },
          "metadata": {}
        }
      ]
    },
    {
      "cell_type": "code",
      "source": [
        "import numpy as np\n",
        "# Calculate the correlation matrix for the features (X)\n",
        "correlation_matrix = X.corr()\n",
        "\n",
        "# Identify pairs of highly correlated features (correlation > 0.9)\n",
        "# Upper triangle of correlation matrix (to avoid duplicates)\n",
        "upper_triangle = correlation_matrix.where(\n",
        "    np.triu(np.ones(correlation_matrix.shape), k=1).astype(bool)\n",
        ")\n",
        "\n",
        "# Find the columns that are highly correlated\n",
        "highly_correlated = [column for column in upper_triangle.columns if any(upper_triangle[column] > 0.9)]\n",
        "\n",
        "# Print highly correlated columns with their indices\n",
        "highly_correlated_with_indices = [(X.columns.get_loc(col), col) for col in highly_correlated]\n",
        "print(\"Highly correlated columns (correlation > 0.9) with their indices:\")\n",
        "for idx, col_name in highly_correlated_with_indices:\n",
        "    print(f\"Index: {idx}, Column: {col_name}\")\n",
        "\n",
        "# Print the number of highly correlated columns\n",
        "num_highly_correlated = len(highly_correlated)\n",
        "print(f\"Number of highly correlated columns: {num_highly_correlated}\")\n",
        "\n",
        "# Optionally, drop one of the correlated features\n",
        "X_reduced = X.drop(columns=highly_correlated)\n",
        "\n",
        "# Number of columns after removal\n",
        "print(f\"Number of columns after removing highly correlated features: {X_reduced.shape[1]}\")\n",
        "\n"
      ],
      "metadata": {
        "colab": {
          "base_uri": "https://localhost:8080/"
        },
        "id": "w5N5lPyBPQbX",
        "outputId": "d5dbe9b9-0e0e-4df9-a4f6-b91ed2b2deac"
      },
      "execution_count": null,
      "outputs": [
        {
          "output_type": "stream",
          "name": "stdout",
          "text": [
            "Highly correlated columns (correlation > 0.9) with their indices:\n",
            "Index: 5, Column: AMT_GOODS_PRICE\n",
            "Index: 19, Column: REGION_RATING_CLIENT_W_CITY\n",
            "Index: 31, Column: OBS_60_CNT_SOCIAL_CIRCLE\n",
            "Index: 58, Column: YEARS_BEGINEXPLUATATION_MODE\n",
            "Index: 59, Column: FLOORSMAX_MODE\n",
            "Index: 60, Column: YEARS_BEGINEXPLUATATION_MEDI\n",
            "Index: 61, Column: FLOORSMAX_MEDI\n",
            "Index: 83, Column: NAME_INCOME_TYPE_Pensioner\n",
            "Number of highly correlated columns: 8\n",
            "Number of columns after removing highly correlated features: 101\n"
          ]
        }
      ]
    },
    {
      "cell_type": "code",
      "source": [
        "print(f\"Total columns in original dataset: {df.shape[1]}\")\n",
        "print(f\"Columns in features dataset (X): {X.shape[1]}\")\n"
      ],
      "metadata": {
        "colab": {
          "base_uri": "https://localhost:8080/"
        },
        "id": "dxfC39wR7kjC",
        "outputId": "fd3e32ed-8498-4b99-8078-aee76d2d5a6e"
      },
      "execution_count": null,
      "outputs": [
        {
          "output_type": "stream",
          "name": "stdout",
          "text": [
            "Total columns in original dataset: 110\n",
            "Columns in features dataset (X): 109\n"
          ]
        }
      ]
    },
    {
      "cell_type": "code",
      "source": [
        "# Add the target variable back to the reduced features dataset\n",
        "final_dataset = pd.concat([X_reduced, df[target]], axis=1)\n",
        "\n",
        "# Print the number of columns in the final dataset\n",
        "print(f\"Number of columns in the final dataset: {final_dataset.shape[1]}\")\n"
      ],
      "metadata": {
        "colab": {
          "base_uri": "https://localhost:8080/"
        },
        "id": "rI-ZImZy_jSK",
        "outputId": "53d054ec-7b60-485a-84c9-0c1bffcd106e"
      },
      "execution_count": null,
      "outputs": [
        {
          "output_type": "stream",
          "name": "stdout",
          "text": [
            "Number of columns in the final dataset: 102\n"
          ]
        }
      ]
    },
    {
      "cell_type": "code",
      "source": [
        "# Save the final dataset to a CSV file\n",
        "final_dataset.to_csv('/content/drive/MyDrive/final_dataset.csv', index=False)\n",
        "\n",
        "print(\"Final dataset saved successfully!\")\n"
      ],
      "metadata": {
        "colab": {
          "base_uri": "https://localhost:8080/"
        },
        "id": "JBCgiYJG_1Cd",
        "outputId": "77c00d1d-44f8-414c-c797-b03982b7c8b2"
      },
      "execution_count": null,
      "outputs": [
        {
          "output_type": "stream",
          "name": "stdout",
          "text": [
            "Final dataset saved successfully!\n"
          ]
        }
      ]
    }
  ]
}